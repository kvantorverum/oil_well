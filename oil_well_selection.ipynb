{
 "cells": [
  {
   "cell_type": "markdown",
   "metadata": {},
   "source": [
    "# Выбор локации для скважины"
   ]
  },
  {
   "cell_type": "markdown",
   "metadata": {},
   "source": [
    "Перед нами поставлена задача определить, где бурить новую скважину.\n",
    "\n",
    "Нам предоставлены пробы нефти в трёх регионах: в каждом 10 000 месторождений, где измерили качество нефти и объём её запасов. Нам надо построить модель машинного обучения, которая поможет определить регион, где добыча принесёт наибольшую прибыль. Проанализируем возможную прибыль и риски техникой *Bootstrap*\n",
    "\n",
    "Шаги для выбора локации:\n",
    "\n",
    "- В избранном регионе ищем месторождения, для каждого определяем значения признаков;\n",
    "- Строим модель и оценивем объём запасов;\n",
    "- Выбираем месторождения с самым высокими оценками значений. Количество месторождений зависит от бюджета компании и стоимости разработки одной скважины;\n",
    "- Прибыль равна суммарной прибыли отобранных месторождений."
   ]
  },
  {
   "cell_type": "markdown",
   "metadata": {},
   "source": [
    "### Описание данных\n",
    "Данные геологоразведки трёх регионов:\n",
    "* id — уникальный идентификатор скважины;\n",
    "* f0, f1, f2 — три признака точек (нам не раскрыт);\n",
    "* product — объём запасов в скважине (тыс. баррелей).\n",
    "\n",
    "### Условия задачи:\n",
    "* Для обучения модели подходит только линейная регрессия (остальные — недостаточно предсказуемые).\n",
    "* При разведке региона исследуем 500 точек, из которых с помощью машинного обучения выбираем 200 лучших для разработки.\n",
    "* Бюджет на разработку скважин в регионе — 10 млрд рублей.\n",
    "* При нынешних ценах один баррель сырья приносит 450 рублей дохода. Доход с каждой единицы продукта составляет 450 тыс. рублей, поскольку объём указан в тысячах баррелей.\n",
    "* После оценки рисков оставим те регионы, в которых вероятность убытков меньше 2.5%. Среди них выбирем регион с наибольшей средней прибылью.\n",
    "* Данные синтетические: детали контрактов и характеристики месторождений не разглашаются."
   ]
  },
  {
   "cell_type": "markdown",
   "metadata": {},
   "source": [
    "## Загрузка и подготовка данных"
   ]
  },
  {
   "cell_type": "code",
   "execution_count": 1,
   "metadata": {},
   "outputs": [],
   "source": [
    "import pandas as pd\n",
    "import numpy as np\n",
    "import matplotlib.pyplot as plt\n",
    "from sklearn.tree import DecisionTreeClassifier\n",
    "from sklearn.ensemble import RandomForestClassifier\n",
    "from sklearn.linear_model import LinearRegression\n",
    "from sklearn.model_selection import train_test_split\n",
    "from sklearn.metrics import mean_squared_error\n",
    "from sklearn.preprocessing import StandardScaler\n",
    "from sklearn.utils import shuffle\n",
    "from sklearn.metrics import accuracy_score, precision_score, recall_score, roc_auc_score, roc_curve, f1_score\n",
    "import warnings\n",
    "warnings.filterwarnings('ignore')"
   ]
  },
  {
   "cell_type": "markdown",
   "metadata": {},
   "source": [
    "### Загрузка данных"
   ]
  },
  {
   "cell_type": "code",
   "execution_count": 2,
   "metadata": {},
   "outputs": [],
   "source": [
    "geo_data_0 = pd.read_csv('./geo_data_0.csv', index_col=0)"
   ]
  },
  {
   "cell_type": "code",
   "execution_count": 3,
   "metadata": {},
   "outputs": [],
   "source": [
    "geo_data_1 = pd.read_csv('./geo_data_1.csv', index_col=0)"
   ]
  },
  {
   "cell_type": "code",
   "execution_count": 4,
   "metadata": {},
   "outputs": [],
   "source": [
    "geo_data_2 = pd.read_csv('./geo_data_2.csv', index_col=0)"
   ]
  },
  {
   "cell_type": "markdown",
   "metadata": {},
   "source": [
    "### Обзор данных"
   ]
  },
  {
   "cell_type": "code",
   "execution_count": 5,
   "metadata": {},
   "outputs": [
    {
     "name": "stdout",
     "output_type": "stream",
     "text": [
      "<class 'pandas.core.frame.DataFrame'>\n",
      "Int64Index: 100000 entries, 0 to 99999\n",
      "Data columns (total 5 columns):\n",
      " #   Column   Non-Null Count   Dtype  \n",
      "---  ------   --------------   -----  \n",
      " 0   id       100000 non-null  object \n",
      " 1   f0       100000 non-null  float64\n",
      " 2   f1       100000 non-null  float64\n",
      " 3   f2       100000 non-null  float64\n",
      " 4   product  100000 non-null  float64\n",
      "dtypes: float64(4), object(1)\n",
      "memory usage: 4.6+ MB\n"
     ]
    }
   ],
   "source": [
    "geo_data_0.info()"
   ]
  },
  {
   "cell_type": "code",
   "execution_count": 6,
   "metadata": {},
   "outputs": [
    {
     "data": {
      "text/html": [
       "<div>\n",
       "<style scoped>\n",
       "    .dataframe tbody tr th:only-of-type {\n",
       "        vertical-align: middle;\n",
       "    }\n",
       "\n",
       "    .dataframe tbody tr th {\n",
       "        vertical-align: top;\n",
       "    }\n",
       "\n",
       "    .dataframe thead th {\n",
       "        text-align: right;\n",
       "    }\n",
       "</style>\n",
       "<table border=\"1\" class=\"dataframe\">\n",
       "  <thead>\n",
       "    <tr style=\"text-align: right;\">\n",
       "      <th></th>\n",
       "      <th>f0</th>\n",
       "      <th>f1</th>\n",
       "      <th>f2</th>\n",
       "      <th>product</th>\n",
       "    </tr>\n",
       "  </thead>\n",
       "  <tbody>\n",
       "    <tr>\n",
       "      <th>count</th>\n",
       "      <td>100000.000000</td>\n",
       "      <td>100000.000000</td>\n",
       "      <td>100000.000000</td>\n",
       "      <td>100000.000000</td>\n",
       "    </tr>\n",
       "    <tr>\n",
       "      <th>mean</th>\n",
       "      <td>0.500419</td>\n",
       "      <td>0.250143</td>\n",
       "      <td>2.502647</td>\n",
       "      <td>92.500000</td>\n",
       "    </tr>\n",
       "    <tr>\n",
       "      <th>std</th>\n",
       "      <td>0.871832</td>\n",
       "      <td>0.504433</td>\n",
       "      <td>3.248248</td>\n",
       "      <td>44.288691</td>\n",
       "    </tr>\n",
       "    <tr>\n",
       "      <th>min</th>\n",
       "      <td>-1.408605</td>\n",
       "      <td>-0.848218</td>\n",
       "      <td>-12.088328</td>\n",
       "      <td>0.000000</td>\n",
       "    </tr>\n",
       "    <tr>\n",
       "      <th>25%</th>\n",
       "      <td>-0.072580</td>\n",
       "      <td>-0.200881</td>\n",
       "      <td>0.287748</td>\n",
       "      <td>56.497507</td>\n",
       "    </tr>\n",
       "    <tr>\n",
       "      <th>50%</th>\n",
       "      <td>0.502360</td>\n",
       "      <td>0.250252</td>\n",
       "      <td>2.515969</td>\n",
       "      <td>91.849972</td>\n",
       "    </tr>\n",
       "    <tr>\n",
       "      <th>75%</th>\n",
       "      <td>1.073581</td>\n",
       "      <td>0.700646</td>\n",
       "      <td>4.715088</td>\n",
       "      <td>128.564089</td>\n",
       "    </tr>\n",
       "    <tr>\n",
       "      <th>max</th>\n",
       "      <td>2.362331</td>\n",
       "      <td>1.343769</td>\n",
       "      <td>16.003790</td>\n",
       "      <td>185.364347</td>\n",
       "    </tr>\n",
       "  </tbody>\n",
       "</table>\n",
       "</div>"
      ],
      "text/plain": [
       "                  f0             f1             f2        product\n",
       "count  100000.000000  100000.000000  100000.000000  100000.000000\n",
       "mean        0.500419       0.250143       2.502647      92.500000\n",
       "std         0.871832       0.504433       3.248248      44.288691\n",
       "min        -1.408605      -0.848218     -12.088328       0.000000\n",
       "25%        -0.072580      -0.200881       0.287748      56.497507\n",
       "50%         0.502360       0.250252       2.515969      91.849972\n",
       "75%         1.073581       0.700646       4.715088     128.564089\n",
       "max         2.362331       1.343769      16.003790     185.364347"
      ]
     },
     "execution_count": 6,
     "metadata": {},
     "output_type": "execute_result"
    }
   ],
   "source": [
    "geo_data_0.describe()"
   ]
  },
  {
   "cell_type": "code",
   "execution_count": 7,
   "metadata": {},
   "outputs": [
    {
     "data": {
      "text/html": [
       "<div>\n",
       "<style scoped>\n",
       "    .dataframe tbody tr th:only-of-type {\n",
       "        vertical-align: middle;\n",
       "    }\n",
       "\n",
       "    .dataframe tbody tr th {\n",
       "        vertical-align: top;\n",
       "    }\n",
       "\n",
       "    .dataframe thead th {\n",
       "        text-align: right;\n",
       "    }\n",
       "</style>\n",
       "<table border=\"1\" class=\"dataframe\">\n",
       "  <thead>\n",
       "    <tr style=\"text-align: right;\">\n",
       "      <th></th>\n",
       "      <th>id</th>\n",
       "      <th>f0</th>\n",
       "      <th>f1</th>\n",
       "      <th>f2</th>\n",
       "      <th>product</th>\n",
       "    </tr>\n",
       "  </thead>\n",
       "  <tbody>\n",
       "    <tr>\n",
       "      <th>0</th>\n",
       "      <td>txEyH</td>\n",
       "      <td>0.705745</td>\n",
       "      <td>-0.497823</td>\n",
       "      <td>1.221170</td>\n",
       "      <td>105.280062</td>\n",
       "    </tr>\n",
       "    <tr>\n",
       "      <th>1</th>\n",
       "      <td>2acmU</td>\n",
       "      <td>1.334711</td>\n",
       "      <td>-0.340164</td>\n",
       "      <td>4.365080</td>\n",
       "      <td>73.037750</td>\n",
       "    </tr>\n",
       "    <tr>\n",
       "      <th>2</th>\n",
       "      <td>409Wp</td>\n",
       "      <td>1.022732</td>\n",
       "      <td>0.151990</td>\n",
       "      <td>1.419926</td>\n",
       "      <td>85.265647</td>\n",
       "    </tr>\n",
       "    <tr>\n",
       "      <th>3</th>\n",
       "      <td>iJLyR</td>\n",
       "      <td>-0.032172</td>\n",
       "      <td>0.139033</td>\n",
       "      <td>2.978566</td>\n",
       "      <td>168.620776</td>\n",
       "    </tr>\n",
       "    <tr>\n",
       "      <th>4</th>\n",
       "      <td>Xdl7t</td>\n",
       "      <td>1.988431</td>\n",
       "      <td>0.155413</td>\n",
       "      <td>4.751769</td>\n",
       "      <td>154.036647</td>\n",
       "    </tr>\n",
       "  </tbody>\n",
       "</table>\n",
       "</div>"
      ],
      "text/plain": [
       "      id        f0        f1        f2     product\n",
       "0  txEyH  0.705745 -0.497823  1.221170  105.280062\n",
       "1  2acmU  1.334711 -0.340164  4.365080   73.037750\n",
       "2  409Wp  1.022732  0.151990  1.419926   85.265647\n",
       "3  iJLyR -0.032172  0.139033  2.978566  168.620776\n",
       "4  Xdl7t  1.988431  0.155413  4.751769  154.036647"
      ]
     },
     "execution_count": 7,
     "metadata": {},
     "output_type": "execute_result"
    }
   ],
   "source": [
    "geo_data_0.head()"
   ]
  },
  {
   "cell_type": "markdown",
   "metadata": {},
   "source": [
    "Пропущенных данных нет, поле id явно содержит коды скважин и скорее всего не будет нужно"
   ]
  },
  {
   "cell_type": "code",
   "execution_count": 8,
   "metadata": {},
   "outputs": [
    {
     "name": "stdout",
     "output_type": "stream",
     "text": [
      "<class 'pandas.core.frame.DataFrame'>\n",
      "Int64Index: 100000 entries, 0 to 99999\n",
      "Data columns (total 5 columns):\n",
      " #   Column   Non-Null Count   Dtype  \n",
      "---  ------   --------------   -----  \n",
      " 0   id       100000 non-null  object \n",
      " 1   f0       100000 non-null  float64\n",
      " 2   f1       100000 non-null  float64\n",
      " 3   f2       100000 non-null  float64\n",
      " 4   product  100000 non-null  float64\n",
      "dtypes: float64(4), object(1)\n",
      "memory usage: 4.6+ MB\n"
     ]
    }
   ],
   "source": [
    "geo_data_1.info()"
   ]
  },
  {
   "cell_type": "code",
   "execution_count": 9,
   "metadata": {},
   "outputs": [
    {
     "data": {
      "text/html": [
       "<div>\n",
       "<style scoped>\n",
       "    .dataframe tbody tr th:only-of-type {\n",
       "        vertical-align: middle;\n",
       "    }\n",
       "\n",
       "    .dataframe tbody tr th {\n",
       "        vertical-align: top;\n",
       "    }\n",
       "\n",
       "    .dataframe thead th {\n",
       "        text-align: right;\n",
       "    }\n",
       "</style>\n",
       "<table border=\"1\" class=\"dataframe\">\n",
       "  <thead>\n",
       "    <tr style=\"text-align: right;\">\n",
       "      <th></th>\n",
       "      <th>f0</th>\n",
       "      <th>f1</th>\n",
       "      <th>f2</th>\n",
       "      <th>product</th>\n",
       "    </tr>\n",
       "  </thead>\n",
       "  <tbody>\n",
       "    <tr>\n",
       "      <th>count</th>\n",
       "      <td>100000.000000</td>\n",
       "      <td>100000.000000</td>\n",
       "      <td>100000.000000</td>\n",
       "      <td>100000.000000</td>\n",
       "    </tr>\n",
       "    <tr>\n",
       "      <th>mean</th>\n",
       "      <td>1.141296</td>\n",
       "      <td>-4.796579</td>\n",
       "      <td>2.494541</td>\n",
       "      <td>68.825000</td>\n",
       "    </tr>\n",
       "    <tr>\n",
       "      <th>std</th>\n",
       "      <td>8.965932</td>\n",
       "      <td>5.119872</td>\n",
       "      <td>1.703572</td>\n",
       "      <td>45.944423</td>\n",
       "    </tr>\n",
       "    <tr>\n",
       "      <th>min</th>\n",
       "      <td>-31.609576</td>\n",
       "      <td>-26.358598</td>\n",
       "      <td>-0.018144</td>\n",
       "      <td>0.000000</td>\n",
       "    </tr>\n",
       "    <tr>\n",
       "      <th>25%</th>\n",
       "      <td>-6.298551</td>\n",
       "      <td>-8.267985</td>\n",
       "      <td>1.000021</td>\n",
       "      <td>26.953261</td>\n",
       "    </tr>\n",
       "    <tr>\n",
       "      <th>50%</th>\n",
       "      <td>1.153055</td>\n",
       "      <td>-4.813172</td>\n",
       "      <td>2.011479</td>\n",
       "      <td>57.085625</td>\n",
       "    </tr>\n",
       "    <tr>\n",
       "      <th>75%</th>\n",
       "      <td>8.621015</td>\n",
       "      <td>-1.332816</td>\n",
       "      <td>3.999904</td>\n",
       "      <td>107.813044</td>\n",
       "    </tr>\n",
       "    <tr>\n",
       "      <th>max</th>\n",
       "      <td>29.421755</td>\n",
       "      <td>18.734063</td>\n",
       "      <td>5.019721</td>\n",
       "      <td>137.945408</td>\n",
       "    </tr>\n",
       "  </tbody>\n",
       "</table>\n",
       "</div>"
      ],
      "text/plain": [
       "                  f0             f1             f2        product\n",
       "count  100000.000000  100000.000000  100000.000000  100000.000000\n",
       "mean        1.141296      -4.796579       2.494541      68.825000\n",
       "std         8.965932       5.119872       1.703572      45.944423\n",
       "min       -31.609576     -26.358598      -0.018144       0.000000\n",
       "25%        -6.298551      -8.267985       1.000021      26.953261\n",
       "50%         1.153055      -4.813172       2.011479      57.085625\n",
       "75%         8.621015      -1.332816       3.999904     107.813044\n",
       "max        29.421755      18.734063       5.019721     137.945408"
      ]
     },
     "execution_count": 9,
     "metadata": {},
     "output_type": "execute_result"
    }
   ],
   "source": [
    "geo_data_1.describe()"
   ]
  },
  {
   "cell_type": "code",
   "execution_count": 10,
   "metadata": {},
   "outputs": [
    {
     "data": {
      "text/html": [
       "<div>\n",
       "<style scoped>\n",
       "    .dataframe tbody tr th:only-of-type {\n",
       "        vertical-align: middle;\n",
       "    }\n",
       "\n",
       "    .dataframe tbody tr th {\n",
       "        vertical-align: top;\n",
       "    }\n",
       "\n",
       "    .dataframe thead th {\n",
       "        text-align: right;\n",
       "    }\n",
       "</style>\n",
       "<table border=\"1\" class=\"dataframe\">\n",
       "  <thead>\n",
       "    <tr style=\"text-align: right;\">\n",
       "      <th></th>\n",
       "      <th>id</th>\n",
       "      <th>f0</th>\n",
       "      <th>f1</th>\n",
       "      <th>f2</th>\n",
       "      <th>product</th>\n",
       "    </tr>\n",
       "  </thead>\n",
       "  <tbody>\n",
       "    <tr>\n",
       "      <th>0</th>\n",
       "      <td>kBEdx</td>\n",
       "      <td>-15.001348</td>\n",
       "      <td>-8.276000</td>\n",
       "      <td>-0.005876</td>\n",
       "      <td>3.179103</td>\n",
       "    </tr>\n",
       "    <tr>\n",
       "      <th>1</th>\n",
       "      <td>62mP7</td>\n",
       "      <td>14.272088</td>\n",
       "      <td>-3.475083</td>\n",
       "      <td>0.999183</td>\n",
       "      <td>26.953261</td>\n",
       "    </tr>\n",
       "    <tr>\n",
       "      <th>2</th>\n",
       "      <td>vyE1P</td>\n",
       "      <td>6.263187</td>\n",
       "      <td>-5.948386</td>\n",
       "      <td>5.001160</td>\n",
       "      <td>134.766305</td>\n",
       "    </tr>\n",
       "    <tr>\n",
       "      <th>3</th>\n",
       "      <td>KcrkZ</td>\n",
       "      <td>-13.081196</td>\n",
       "      <td>-11.506057</td>\n",
       "      <td>4.999415</td>\n",
       "      <td>137.945408</td>\n",
       "    </tr>\n",
       "    <tr>\n",
       "      <th>4</th>\n",
       "      <td>AHL4O</td>\n",
       "      <td>12.702195</td>\n",
       "      <td>-8.147433</td>\n",
       "      <td>5.004363</td>\n",
       "      <td>134.766305</td>\n",
       "    </tr>\n",
       "  </tbody>\n",
       "</table>\n",
       "</div>"
      ],
      "text/plain": [
       "      id         f0         f1        f2     product\n",
       "0  kBEdx -15.001348  -8.276000 -0.005876    3.179103\n",
       "1  62mP7  14.272088  -3.475083  0.999183   26.953261\n",
       "2  vyE1P   6.263187  -5.948386  5.001160  134.766305\n",
       "3  KcrkZ -13.081196 -11.506057  4.999415  137.945408\n",
       "4  AHL4O  12.702195  -8.147433  5.004363  134.766305"
      ]
     },
     "execution_count": 10,
     "metadata": {},
     "output_type": "execute_result"
    }
   ],
   "source": [
    "geo_data_1.head()"
   ]
  },
  {
   "cell_type": "markdown",
   "metadata": {},
   "source": [
    "Пропущенных данных нет"
   ]
  },
  {
   "cell_type": "code",
   "execution_count": 11,
   "metadata": {},
   "outputs": [
    {
     "name": "stdout",
     "output_type": "stream",
     "text": [
      "<class 'pandas.core.frame.DataFrame'>\n",
      "Int64Index: 100000 entries, 0 to 99999\n",
      "Data columns (total 5 columns):\n",
      " #   Column   Non-Null Count   Dtype  \n",
      "---  ------   --------------   -----  \n",
      " 0   id       100000 non-null  object \n",
      " 1   f0       100000 non-null  float64\n",
      " 2   f1       100000 non-null  float64\n",
      " 3   f2       100000 non-null  float64\n",
      " 4   product  100000 non-null  float64\n",
      "dtypes: float64(4), object(1)\n",
      "memory usage: 4.6+ MB\n"
     ]
    }
   ],
   "source": [
    "geo_data_2.info()"
   ]
  },
  {
   "cell_type": "code",
   "execution_count": 12,
   "metadata": {},
   "outputs": [
    {
     "data": {
      "text/html": [
       "<div>\n",
       "<style scoped>\n",
       "    .dataframe tbody tr th:only-of-type {\n",
       "        vertical-align: middle;\n",
       "    }\n",
       "\n",
       "    .dataframe tbody tr th {\n",
       "        vertical-align: top;\n",
       "    }\n",
       "\n",
       "    .dataframe thead th {\n",
       "        text-align: right;\n",
       "    }\n",
       "</style>\n",
       "<table border=\"1\" class=\"dataframe\">\n",
       "  <thead>\n",
       "    <tr style=\"text-align: right;\">\n",
       "      <th></th>\n",
       "      <th>f0</th>\n",
       "      <th>f1</th>\n",
       "      <th>f2</th>\n",
       "      <th>product</th>\n",
       "    </tr>\n",
       "  </thead>\n",
       "  <tbody>\n",
       "    <tr>\n",
       "      <th>count</th>\n",
       "      <td>100000.000000</td>\n",
       "      <td>100000.000000</td>\n",
       "      <td>100000.000000</td>\n",
       "      <td>100000.000000</td>\n",
       "    </tr>\n",
       "    <tr>\n",
       "      <th>mean</th>\n",
       "      <td>0.002023</td>\n",
       "      <td>-0.002081</td>\n",
       "      <td>2.495128</td>\n",
       "      <td>95.000000</td>\n",
       "    </tr>\n",
       "    <tr>\n",
       "      <th>std</th>\n",
       "      <td>1.732045</td>\n",
       "      <td>1.730417</td>\n",
       "      <td>3.473445</td>\n",
       "      <td>44.749921</td>\n",
       "    </tr>\n",
       "    <tr>\n",
       "      <th>min</th>\n",
       "      <td>-8.760004</td>\n",
       "      <td>-7.084020</td>\n",
       "      <td>-11.970335</td>\n",
       "      <td>0.000000</td>\n",
       "    </tr>\n",
       "    <tr>\n",
       "      <th>25%</th>\n",
       "      <td>-1.162288</td>\n",
       "      <td>-1.174820</td>\n",
       "      <td>0.130359</td>\n",
       "      <td>59.450441</td>\n",
       "    </tr>\n",
       "    <tr>\n",
       "      <th>50%</th>\n",
       "      <td>0.009424</td>\n",
       "      <td>-0.009482</td>\n",
       "      <td>2.484236</td>\n",
       "      <td>94.925613</td>\n",
       "    </tr>\n",
       "    <tr>\n",
       "      <th>75%</th>\n",
       "      <td>1.158535</td>\n",
       "      <td>1.163678</td>\n",
       "      <td>4.858794</td>\n",
       "      <td>130.595027</td>\n",
       "    </tr>\n",
       "    <tr>\n",
       "      <th>max</th>\n",
       "      <td>7.238262</td>\n",
       "      <td>7.844801</td>\n",
       "      <td>16.739402</td>\n",
       "      <td>190.029838</td>\n",
       "    </tr>\n",
       "  </tbody>\n",
       "</table>\n",
       "</div>"
      ],
      "text/plain": [
       "                  f0             f1             f2        product\n",
       "count  100000.000000  100000.000000  100000.000000  100000.000000\n",
       "mean        0.002023      -0.002081       2.495128      95.000000\n",
       "std         1.732045       1.730417       3.473445      44.749921\n",
       "min        -8.760004      -7.084020     -11.970335       0.000000\n",
       "25%        -1.162288      -1.174820       0.130359      59.450441\n",
       "50%         0.009424      -0.009482       2.484236      94.925613\n",
       "75%         1.158535       1.163678       4.858794     130.595027\n",
       "max         7.238262       7.844801      16.739402     190.029838"
      ]
     },
     "execution_count": 12,
     "metadata": {},
     "output_type": "execute_result"
    }
   ],
   "source": [
    "geo_data_2.describe()"
   ]
  },
  {
   "cell_type": "code",
   "execution_count": 13,
   "metadata": {},
   "outputs": [
    {
     "data": {
      "text/html": [
       "<div>\n",
       "<style scoped>\n",
       "    .dataframe tbody tr th:only-of-type {\n",
       "        vertical-align: middle;\n",
       "    }\n",
       "\n",
       "    .dataframe tbody tr th {\n",
       "        vertical-align: top;\n",
       "    }\n",
       "\n",
       "    .dataframe thead th {\n",
       "        text-align: right;\n",
       "    }\n",
       "</style>\n",
       "<table border=\"1\" class=\"dataframe\">\n",
       "  <thead>\n",
       "    <tr style=\"text-align: right;\">\n",
       "      <th></th>\n",
       "      <th>id</th>\n",
       "      <th>f0</th>\n",
       "      <th>f1</th>\n",
       "      <th>f2</th>\n",
       "      <th>product</th>\n",
       "    </tr>\n",
       "  </thead>\n",
       "  <tbody>\n",
       "    <tr>\n",
       "      <th>0</th>\n",
       "      <td>fwXo0</td>\n",
       "      <td>-1.146987</td>\n",
       "      <td>0.963328</td>\n",
       "      <td>-0.828965</td>\n",
       "      <td>27.758673</td>\n",
       "    </tr>\n",
       "    <tr>\n",
       "      <th>1</th>\n",
       "      <td>WJtFt</td>\n",
       "      <td>0.262778</td>\n",
       "      <td>0.269839</td>\n",
       "      <td>-2.530187</td>\n",
       "      <td>56.069697</td>\n",
       "    </tr>\n",
       "    <tr>\n",
       "      <th>2</th>\n",
       "      <td>ovLUW</td>\n",
       "      <td>0.194587</td>\n",
       "      <td>0.289035</td>\n",
       "      <td>-5.586433</td>\n",
       "      <td>62.871910</td>\n",
       "    </tr>\n",
       "    <tr>\n",
       "      <th>3</th>\n",
       "      <td>q6cA6</td>\n",
       "      <td>2.236060</td>\n",
       "      <td>-0.553760</td>\n",
       "      <td>0.930038</td>\n",
       "      <td>114.572842</td>\n",
       "    </tr>\n",
       "    <tr>\n",
       "      <th>4</th>\n",
       "      <td>WPMUX</td>\n",
       "      <td>-0.515993</td>\n",
       "      <td>1.716266</td>\n",
       "      <td>5.899011</td>\n",
       "      <td>149.600746</td>\n",
       "    </tr>\n",
       "  </tbody>\n",
       "</table>\n",
       "</div>"
      ],
      "text/plain": [
       "      id        f0        f1        f2     product\n",
       "0  fwXo0 -1.146987  0.963328 -0.828965   27.758673\n",
       "1  WJtFt  0.262778  0.269839 -2.530187   56.069697\n",
       "2  ovLUW  0.194587  0.289035 -5.586433   62.871910\n",
       "3  q6cA6  2.236060 -0.553760  0.930038  114.572842\n",
       "4  WPMUX -0.515993  1.716266  5.899011  149.600746"
      ]
     },
     "execution_count": 13,
     "metadata": {},
     "output_type": "execute_result"
    }
   ],
   "source": [
    "geo_data_2.head()"
   ]
  },
  {
   "cell_type": "markdown",
   "metadata": {},
   "source": [
    "Пропущенных данных нет.\n",
    "\n",
    "Поле id не нужно в последующем анализе. Удалим его"
   ]
  },
  {
   "cell_type": "code",
   "execution_count": 14,
   "metadata": {},
   "outputs": [],
   "source": [
    "geo_data_0 = geo_data_0.drop(['id'], axis=1)\n",
    "geo_data_1 = geo_data_1.drop(['id'], axis=1)\n",
    "geo_data_2 = geo_data_2.drop(['id'], axis=1)"
   ]
  },
  {
   "cell_type": "code",
   "execution_count": 15,
   "metadata": {},
   "outputs": [
    {
     "data": {
      "text/html": [
       "<div>\n",
       "<style scoped>\n",
       "    .dataframe tbody tr th:only-of-type {\n",
       "        vertical-align: middle;\n",
       "    }\n",
       "\n",
       "    .dataframe tbody tr th {\n",
       "        vertical-align: top;\n",
       "    }\n",
       "\n",
       "    .dataframe thead th {\n",
       "        text-align: right;\n",
       "    }\n",
       "</style>\n",
       "<table border=\"1\" class=\"dataframe\">\n",
       "  <thead>\n",
       "    <tr style=\"text-align: right;\">\n",
       "      <th></th>\n",
       "      <th>f0</th>\n",
       "      <th>f1</th>\n",
       "      <th>f2</th>\n",
       "      <th>product</th>\n",
       "    </tr>\n",
       "  </thead>\n",
       "  <tbody>\n",
       "    <tr>\n",
       "      <th>0</th>\n",
       "      <td>0.705745</td>\n",
       "      <td>-0.497823</td>\n",
       "      <td>1.221170</td>\n",
       "      <td>105.280062</td>\n",
       "    </tr>\n",
       "    <tr>\n",
       "      <th>1</th>\n",
       "      <td>1.334711</td>\n",
       "      <td>-0.340164</td>\n",
       "      <td>4.365080</td>\n",
       "      <td>73.037750</td>\n",
       "    </tr>\n",
       "    <tr>\n",
       "      <th>2</th>\n",
       "      <td>1.022732</td>\n",
       "      <td>0.151990</td>\n",
       "      <td>1.419926</td>\n",
       "      <td>85.265647</td>\n",
       "    </tr>\n",
       "    <tr>\n",
       "      <th>3</th>\n",
       "      <td>-0.032172</td>\n",
       "      <td>0.139033</td>\n",
       "      <td>2.978566</td>\n",
       "      <td>168.620776</td>\n",
       "    </tr>\n",
       "    <tr>\n",
       "      <th>4</th>\n",
       "      <td>1.988431</td>\n",
       "      <td>0.155413</td>\n",
       "      <td>4.751769</td>\n",
       "      <td>154.036647</td>\n",
       "    </tr>\n",
       "  </tbody>\n",
       "</table>\n",
       "</div>"
      ],
      "text/plain": [
       "         f0        f1        f2     product\n",
       "0  0.705745 -0.497823  1.221170  105.280062\n",
       "1  1.334711 -0.340164  4.365080   73.037750\n",
       "2  1.022732  0.151990  1.419926   85.265647\n",
       "3 -0.032172  0.139033  2.978566  168.620776\n",
       "4  1.988431  0.155413  4.751769  154.036647"
      ]
     },
     "execution_count": 15,
     "metadata": {},
     "output_type": "execute_result"
    }
   ],
   "source": [
    "geo_data_0.head()"
   ]
  },
  {
   "cell_type": "markdown",
   "metadata": {},
   "source": [
    "### Вывод"
   ]
  },
  {
   "cell_type": "markdown",
   "metadata": {},
   "source": [
    "Данные загружены корректно, удалены поля с названиями скважин. Дальнейшая предобработка не требуется"
   ]
  },
  {
   "cell_type": "markdown",
   "metadata": {},
   "source": [
    "## Обучение и проверка модели"
   ]
  },
  {
   "cell_type": "markdown",
   "metadata": {},
   "source": [
    "### Обучаем модель для региона 0"
   ]
  },
  {
   "cell_type": "code",
   "execution_count": 16,
   "metadata": {},
   "outputs": [],
   "source": [
    "features_0 = geo_data_0.drop(['product'],axis=1)\n",
    "target_0 = geo_data_0['product']\n",
    "features_train_0, features_valid_0, target_train_0, target_valid_0 = train_test_split(\n",
    "    features_0, target_0, test_size=0.25, random_state=12345)"
   ]
  },
  {
   "cell_type": "code",
   "execution_count": 17,
   "metadata": {},
   "outputs": [],
   "source": [
    "model_0 = LinearRegression()\n",
    "model_0.fit(features_train_0, target_train_0)\n",
    "prediction_0 = model_0.predict(features_valid_0)\n",
    "mse_0 = mean_squared_error(target_valid_0, prediction_0)\n",
    "rmse_0 = mse_0**0.5\n",
    "mean_pred_0 = prediction_0.mean()"
   ]
  },
  {
   "cell_type": "code",
   "execution_count": 18,
   "metadata": {},
   "outputs": [
    {
     "name": "stdout",
     "output_type": "stream",
     "text": [
      "RMSE модели в регионе 0 = 37.579\n",
      "Средний запас предсказанного сырья 0 = 92.593 т. баррелей\n"
     ]
    }
   ],
   "source": [
    "print('RMSE модели в регионе 0 = {:.3f}'.format(rmse_0))\n",
    "print('Средний запас предсказанного сырья 0 = {:.3f} т. баррелей'.format(mean_pred_0))"
   ]
  },
  {
   "cell_type": "markdown",
   "metadata": {},
   "source": [
    "### Обучаем модель для региона 1"
   ]
  },
  {
   "cell_type": "code",
   "execution_count": 19,
   "metadata": {},
   "outputs": [],
   "source": [
    "features_1 = geo_data_1.drop(['product'],axis=1)\n",
    "target_1 = geo_data_1['product']\n",
    "features_train_1, features_valid_1, target_train_1, target_valid_1 = train_test_split(\n",
    "    features_1, target_1, test_size=0.25, random_state=12345)"
   ]
  },
  {
   "cell_type": "code",
   "execution_count": 20,
   "metadata": {},
   "outputs": [],
   "source": [
    "model_1 = LinearRegression()\n",
    "model_1.fit(features_train_1, target_train_1)\n",
    "prediction_1 = model_1.predict(features_valid_1)\n",
    "mse_1 = mean_squared_error(target_valid_1, prediction_1)\n",
    "rmse_1 = mse_1**0.5\n",
    "mean_pred_1 = prediction_1.mean()"
   ]
  },
  {
   "cell_type": "code",
   "execution_count": 21,
   "metadata": {},
   "outputs": [
    {
     "name": "stdout",
     "output_type": "stream",
     "text": [
      "RMSE модели в регионе 1 = 0.893\n",
      "Средний запас предсказанного сырья 1 = 68.729 т. баррелей\n"
     ]
    }
   ],
   "source": [
    "print('RMSE модели в регионе 1 = {:.3f}'.format(rmse_1))\n",
    "print('Средний запас предсказанного сырья 1 = {:.3f} т. баррелей'.format(mean_pred_1))"
   ]
  },
  {
   "cell_type": "markdown",
   "metadata": {},
   "source": [
    "### Обучаем модель для региона 2"
   ]
  },
  {
   "cell_type": "code",
   "execution_count": 22,
   "metadata": {},
   "outputs": [],
   "source": [
    "features_2 = geo_data_2.drop(['product'],axis=1)\n",
    "target_2 = geo_data_2['product']\n",
    "features_train_2, features_valid_2, target_train_2, target_valid_2 = train_test_split(\n",
    "    features_2, target_2, test_size=0.25, random_state=12345)"
   ]
  },
  {
   "cell_type": "code",
   "execution_count": 23,
   "metadata": {},
   "outputs": [],
   "source": [
    "model_2 = LinearRegression()\n",
    "model_2.fit(features_train_2, target_train_2)\n",
    "prediction_2 = model_2.predict(features_valid_2)\n",
    "mse_2 = mean_squared_error(target_valid_2, prediction_2)\n",
    "rmse_2 = mse_2**0.5\n",
    "mean_pred_2 = prediction_2.mean()"
   ]
  },
  {
   "cell_type": "code",
   "execution_count": 24,
   "metadata": {},
   "outputs": [
    {
     "name": "stdout",
     "output_type": "stream",
     "text": [
      "RMSE модели в регионе 2 = 40.030\n",
      "Средний запас предсказанного сырья 2 = 94.965 т. баррелей\n"
     ]
    }
   ],
   "source": [
    "print('RMSE модели в регионе 2 = {:.3f}'.format(rmse_2))\n",
    "print('Средний запас предсказанного сырья 2 = {:.3f} т. баррелей'.format(mean_pred_2))"
   ]
  },
  {
   "cell_type": "markdown",
   "metadata": {},
   "source": [
    "### Вывод:\n",
    "Лучшие показатели RMSE модели в Регионе 1 (RMSE = 0.893). То есть для этого региона запас сырья наиболее предсказуем.\n",
    "\n",
    "Однако средний запас предсказанного сырья в этом регионе (1) = 68.729 т. баррелей, что меньше чем в двух других регионах(92.593 и 94.965).\n"
   ]
  },
  {
   "cell_type": "markdown",
   "metadata": {},
   "source": [
    "## Подготовка к расчёту прибыли"
   ]
  },
  {
   "cell_type": "markdown",
   "metadata": {},
   "source": [
    "Сохраним ключевые значения для расчетов в отдельных переменных"
   ]
  },
  {
   "cell_type": "code",
   "execution_count": 25,
   "metadata": {},
   "outputs": [],
   "source": [
    "BUDGET = 10000000000 \n",
    "BARREL_P = 450*1000\n",
    "ALL_T = 500\n",
    "BEST_T = 200\n"
   ]
  },
  {
   "cell_type": "code",
   "execution_count": 26,
   "metadata": {},
   "outputs": [
    {
     "name": "stdout",
     "output_type": "stream",
     "text": [
      "Бюджет бурения одного месторождения, руб: 50000000.0\n"
     ]
    }
   ],
   "source": [
    "cost_t = BUDGET / BEST_T\n",
    "print('Бюджет бурения одного месторождения, руб:', cost_t)"
   ]
  },
  {
   "cell_type": "markdown",
   "metadata": {},
   "source": [
    "Рассчитаем точку безубыточности"
   ]
  },
  {
   "cell_type": "code",
   "execution_count": 27,
   "metadata": {},
   "outputs": [],
   "source": [
    "tochka_b = cost_t / BARREL_P"
   ]
  },
  {
   "cell_type": "code",
   "execution_count": 28,
   "metadata": {},
   "outputs": [
    {
     "name": "stdout",
     "output_type": "stream",
     "text": [
      "Объём сырья для безубыточной разработки новой скважины  = 111.111 т. баррелей\n"
     ]
    }
   ],
   "source": [
    "print('Объём сырья для безубыточной разработки новой скважины  = {:.3f} т. баррелей'.format(tochka_b))"
   ]
  },
  {
   "cell_type": "markdown",
   "metadata": {},
   "source": [
    "Средний запас по регионам ниже, чем точка безубыточности в единицах продукции "
   ]
  },
  {
   "cell_type": "markdown",
   "metadata": {},
   "source": [
    "## Расчёт прибыли и рисков "
   ]
  },
  {
   "cell_type": "markdown",
   "metadata": {},
   "source": [
    "Напишем функции, которые будут выводить расчет прибыли и рисков."
   ]
  },
  {
   "cell_type": "code",
   "execution_count": 29,
   "metadata": {},
   "outputs": [],
   "source": [
    "def revenue(pred, real):\n",
    "    df = real.to_frame(name='real')\n",
    "    df['pred'] = pred\n",
    "    #print(df.info())\n",
    "    #print(df.head())\n",
    "    #print(real)\n",
    "    top = df.sort_values('pred', ascending=False).head(BEST_T)\n",
    "    volume = top['real'].sum()\n",
    "    rev = volume * BARREL_P - BUDGET\n",
    "    return rev\n",
    "    "
   ]
  },
  {
   "cell_type": "code",
   "execution_count": 36,
   "metadata": {},
   "outputs": [],
   "source": [
    "def revandr(pred, target):\n",
    "    state = np.random.RandomState(12345)\n",
    "    values = []\n",
    "    target_r = target.reset_index(drop=True)\n",
    "    for i in range(1000):\n",
    "        target_subsample = target_r.sample(n=500, replace=True, random_state=state)\n",
    "        pred_subsample = pred[target_subsample.index] \n",
    "        values.append(revenue(pred_subsample, target_subsample))\n",
    "    \n",
    "    values_s = pd.Series(values)\n",
    "    lower_s = values_s.quantile(0.025) / 1000000\n",
    "    upper_s = values_s.quantile(0.975) / 1000000\n",
    "\n",
    "    mean_s = values_s.mean() / 1000000\n",
    "    print(\"Средняя прибыль: {:.1f} млн. руб.\".format(mean_s))\n",
    "    print(\"Доверительный интервал: {:.1f} : {:.1f} млн. руб.\".format(lower_s, upper_s))\n",
    "    print()\n",
    "    print('Риск убытков: {:.2%}'.format(len([i for i in values if i < 0])/len(values)))"
   ]
  },
  {
   "cell_type": "markdown",
   "metadata": {},
   "source": [
    "### Расчет прибыли для региона 0"
   ]
  },
  {
   "cell_type": "code",
   "execution_count": 37,
   "metadata": {},
   "outputs": [
    {
     "name": "stdout",
     "output_type": "stream",
     "text": [
      "Средняя прибыль: 396.2 млн. руб.\n",
      "Доверительный интервал: -111.2 : 909.8 млн. руб.\n",
      "\n",
      "Риск убытков: 6.90%\n"
     ]
    }
   ],
   "source": [
    "revandr(prediction_0, target_valid_0)"
   ]
  },
  {
   "cell_type": "markdown",
   "metadata": {},
   "source": [
    "### Расчет прибыли для региона 1"
   ]
  },
  {
   "cell_type": "code",
   "execution_count": 38,
   "metadata": {},
   "outputs": [
    {
     "name": "stdout",
     "output_type": "stream",
     "text": [
      "Средняя прибыль: 456.0 млн. руб.\n",
      "Доверительный интервал: 33.8 : 852.3 млн. руб.\n",
      "\n",
      "Риск убытков: 1.50%\n"
     ]
    }
   ],
   "source": [
    "revandr(prediction_1, target_valid_1)"
   ]
  },
  {
   "cell_type": "markdown",
   "metadata": {},
   "source": [
    "### Расчет прибыли для региона 2"
   ]
  },
  {
   "cell_type": "code",
   "execution_count": 39,
   "metadata": {},
   "outputs": [
    {
     "name": "stdout",
     "output_type": "stream",
     "text": [
      "Средняя прибыль: 404.4 млн. руб.\n",
      "Доверительный интервал: -163.4 : 950.4 млн. руб.\n",
      "\n",
      "Риск убытков: 7.60%\n"
     ]
    }
   ],
   "source": [
    "revandr(prediction_2, target_valid_2)"
   ]
  },
  {
   "cell_type": "markdown",
   "metadata": {},
   "source": [
    "### Вывод"
   ]
  },
  {
   "cell_type": "markdown",
   "metadata": {},
   "source": [
    "Наимболее перспективный регион - 1. На параметрах скважин этого региона модель обучилась наиболее хорошо и дает более корректные результаты. Прибыль с разработки наибольшая и составляет 456.0 млн. руб.. Кроме того, разработка этого региона характеризуется наименьшим риском - всего 1.5%"
   ]
  },
  {
   "cell_type": "markdown",
   "metadata": {},
   "source": [
    "## Вывод"
   ]
  },
  {
   "cell_type": "markdown",
   "metadata": {},
   "source": [
    "По полученным данным было построено три модели - для каждого из трех регионов. Наилучшей пресказательной силой обладает модель, построенная для региона 1. RMSE этой модели = 0.893\n",
    "\n",
    "Расчитан средний запас предсказанного сырья:\n",
    "- Регион 0: 92.593 т. баррелей (RMSE = 37.6)\n",
    "- Регион 1: 68.729 т. баррелей (RMSE = 0.9)\n",
    "- Регион 2: 94.965 т. баррелей (RMSE = 40.0)\n",
    "\n",
    "Средний запас предсказанного сырья в 0 и 2 регионах выше, чем в 1. Однако ошибка RMSE перекрывает это преимущество. Для более точного понимания прибыли и рисков была использована технология бутстрап. \n",
    "\n",
    "С помощью технологии бутстрап произведено моделирование получаемой прибыли при разработке региона. Наиболее перспективным регионом является регион 1. Средняя прогнозируемая прибыль: 456.0, доверительный 95% интервал: 33.8 : 852.3 млн. руб., уровень риска: 1.5%\n",
    "\n",
    "Остальные регионы имеют меньшую среднюю прогнозируемую прибыль и повышенные уровни риска: 6.9% и 7.6%"
   ]
  },
  {
   "cell_type": "code",
   "execution_count": null,
   "metadata": {},
   "outputs": [],
   "source": []
  }
 ],
 "metadata": {
  "ExecuteTimeLog": [
   {
    "duration": 1425,
    "start_time": "2022-04-01T10:22:51.770Z"
   },
   {
    "duration": 124,
    "start_time": "2022-04-01T10:25:37.132Z"
   },
   {
    "duration": 128,
    "start_time": "2022-04-01T10:25:42.081Z"
   },
   {
    "duration": 124,
    "start_time": "2022-04-01T10:25:46.049Z"
   },
   {
    "duration": 123,
    "start_time": "2022-04-01T10:25:48.722Z"
   },
   {
    "duration": 16,
    "start_time": "2022-04-01T10:36:17.073Z"
   },
   {
    "duration": 16,
    "start_time": "2022-04-01T10:36:19.625Z"
   },
   {
    "duration": 39,
    "start_time": "2022-04-01T10:36:22.786Z"
   },
   {
    "duration": 16,
    "start_time": "2022-04-01T11:46:48.830Z"
   },
   {
    "duration": 38,
    "start_time": "2022-04-01T11:46:55.804Z"
   },
   {
    "duration": 10,
    "start_time": "2022-04-01T11:46:58.132Z"
   },
   {
    "duration": 15,
    "start_time": "2022-04-01T11:47:06.955Z"
   },
   {
    "duration": 38,
    "start_time": "2022-04-01T11:47:09.059Z"
   },
   {
    "duration": 9,
    "start_time": "2022-04-01T11:47:14.403Z"
   },
   {
    "duration": 12,
    "start_time": "2022-04-01T17:03:03.964Z"
   },
   {
    "duration": 27,
    "start_time": "2022-04-01T17:59:02.408Z"
   },
   {
    "duration": 1612,
    "start_time": "2022-04-01T17:59:17.604Z"
   },
   {
    "duration": 147,
    "start_time": "2022-04-01T17:59:19.219Z"
   },
   {
    "duration": 136,
    "start_time": "2022-04-01T17:59:19.368Z"
   },
   {
    "duration": 129,
    "start_time": "2022-04-01T17:59:19.506Z"
   },
   {
    "duration": 16,
    "start_time": "2022-04-01T17:59:19.638Z"
   },
   {
    "duration": 44,
    "start_time": "2022-04-01T17:59:19.656Z"
   },
   {
    "duration": 36,
    "start_time": "2022-04-01T17:59:19.701Z"
   },
   {
    "duration": 17,
    "start_time": "2022-04-01T17:59:19.739Z"
   },
   {
    "duration": 39,
    "start_time": "2022-04-01T17:59:19.757Z"
   },
   {
    "duration": 43,
    "start_time": "2022-04-01T17:59:19.797Z"
   },
   {
    "duration": 18,
    "start_time": "2022-04-01T17:59:19.842Z"
   },
   {
    "duration": 71,
    "start_time": "2022-04-01T17:59:19.862Z"
   },
   {
    "duration": 11,
    "start_time": "2022-04-01T17:59:19.934Z"
   },
   {
    "duration": 13,
    "start_time": "2022-04-01T17:59:19.947Z"
   },
   {
    "duration": 150,
    "start_time": "2022-04-01T17:59:19.962Z"
   },
   {
    "duration": 11,
    "start_time": "2022-04-01T17:59:27.301Z"
   },
   {
    "duration": 16,
    "start_time": "2022-04-01T17:59:39.292Z"
   },
   {
    "duration": 166,
    "start_time": "2022-04-01T18:21:00.832Z"
   },
   {
    "duration": 179,
    "start_time": "2022-04-01T18:21:17.720Z"
   },
   {
    "duration": 189,
    "start_time": "2022-04-01T18:21:24.122Z"
   },
   {
    "duration": 9,
    "start_time": "2022-04-01T18:43:59.062Z"
   },
   {
    "duration": 10,
    "start_time": "2022-04-01T18:44:07.308Z"
   },
   {
    "duration": 10,
    "start_time": "2022-04-01T18:44:35.070Z"
   },
   {
    "duration": 17,
    "start_time": "2022-04-01T18:44:53.750Z"
   },
   {
    "duration": 13,
    "start_time": "2022-04-01T18:44:54.970Z"
   },
   {
    "duration": 13,
    "start_time": "2022-04-01T18:44:57.400Z"
   },
   {
    "duration": 1471,
    "start_time": "2022-04-01T18:45:53.979Z"
   },
   {
    "duration": 139,
    "start_time": "2022-04-01T18:45:55.452Z"
   },
   {
    "duration": 119,
    "start_time": "2022-04-01T18:45:55.592Z"
   },
   {
    "duration": 120,
    "start_time": "2022-04-01T18:45:55.713Z"
   },
   {
    "duration": 16,
    "start_time": "2022-04-01T18:45:55.836Z"
   },
   {
    "duration": 44,
    "start_time": "2022-04-01T18:45:55.854Z"
   },
   {
    "duration": 10,
    "start_time": "2022-04-01T18:45:55.899Z"
   },
   {
    "duration": 35,
    "start_time": "2022-04-01T18:45:55.910Z"
   },
   {
    "duration": 37,
    "start_time": "2022-04-01T18:45:55.947Z"
   },
   {
    "duration": 9,
    "start_time": "2022-04-01T18:45:55.985Z"
   },
   {
    "duration": 43,
    "start_time": "2022-04-01T18:45:55.996Z"
   },
   {
    "duration": 37,
    "start_time": "2022-04-01T18:45:56.041Z"
   },
   {
    "duration": 10,
    "start_time": "2022-04-01T18:45:56.080Z"
   },
   {
    "duration": 13,
    "start_time": "2022-04-01T18:45:56.093Z"
   },
   {
    "duration": 36,
    "start_time": "2022-04-01T18:45:56.108Z"
   },
   {
    "duration": 13,
    "start_time": "2022-04-01T18:45:56.146Z"
   },
   {
    "duration": 127,
    "start_time": "2022-04-01T18:45:56.161Z"
   },
   {
    "duration": 13,
    "start_time": "2022-04-01T19:11:59.758Z"
   },
   {
    "duration": 13,
    "start_time": "2022-04-01T19:15:26.013Z"
   },
   {
    "duration": 9,
    "start_time": "2022-04-01T19:22:22.420Z"
   },
   {
    "duration": 1544,
    "start_time": "2022-04-01T19:22:37.316Z"
   },
   {
    "duration": 143,
    "start_time": "2022-04-01T19:22:38.862Z"
   },
   {
    "duration": 124,
    "start_time": "2022-04-01T19:22:39.006Z"
   },
   {
    "duration": 128,
    "start_time": "2022-04-01T19:22:39.132Z"
   },
   {
    "duration": 17,
    "start_time": "2022-04-01T19:22:39.262Z"
   },
   {
    "duration": 57,
    "start_time": "2022-04-01T19:22:39.281Z"
   },
   {
    "duration": 11,
    "start_time": "2022-04-01T19:22:39.340Z"
   },
   {
    "duration": 28,
    "start_time": "2022-04-01T19:22:39.353Z"
   },
   {
    "duration": 54,
    "start_time": "2022-04-01T19:22:39.382Z"
   },
   {
    "duration": 10,
    "start_time": "2022-04-01T19:22:39.438Z"
   },
   {
    "duration": 21,
    "start_time": "2022-04-01T19:22:39.450Z"
   },
   {
    "duration": 60,
    "start_time": "2022-04-01T19:22:39.473Z"
   },
   {
    "duration": 10,
    "start_time": "2022-04-01T19:22:39.535Z"
   },
   {
    "duration": 15,
    "start_time": "2022-04-01T19:22:39.548Z"
   },
   {
    "duration": 18,
    "start_time": "2022-04-01T19:22:39.565Z"
   },
   {
    "duration": 14,
    "start_time": "2022-04-01T19:22:39.585Z"
   },
   {
    "duration": 154,
    "start_time": "2022-04-01T19:22:39.601Z"
   },
   {
    "duration": 1535,
    "start_time": "2022-04-01T19:28:51.302Z"
   },
   {
    "duration": 126,
    "start_time": "2022-04-01T19:28:52.839Z"
   },
   {
    "duration": 125,
    "start_time": "2022-04-01T19:28:52.967Z"
   },
   {
    "duration": 125,
    "start_time": "2022-04-01T19:28:53.094Z"
   },
   {
    "duration": 18,
    "start_time": "2022-04-01T19:28:53.222Z"
   },
   {
    "duration": 44,
    "start_time": "2022-04-01T19:28:53.242Z"
   },
   {
    "duration": 10,
    "start_time": "2022-04-01T19:28:53.288Z"
   },
   {
    "duration": 44,
    "start_time": "2022-04-01T19:28:53.299Z"
   },
   {
    "duration": 38,
    "start_time": "2022-04-01T19:28:53.345Z"
   },
   {
    "duration": 9,
    "start_time": "2022-04-01T19:28:53.385Z"
   },
   {
    "duration": 38,
    "start_time": "2022-04-01T19:28:53.396Z"
   },
   {
    "duration": 36,
    "start_time": "2022-04-01T19:28:53.436Z"
   },
   {
    "duration": 10,
    "start_time": "2022-04-01T19:28:53.473Z"
   },
   {
    "duration": 12,
    "start_time": "2022-04-01T19:28:53.485Z"
   },
   {
    "duration": 40,
    "start_time": "2022-04-01T19:28:53.499Z"
   },
   {
    "duration": 123,
    "start_time": "2022-04-01T19:28:53.541Z"
   },
   {
    "duration": 1487,
    "start_time": "2022-04-01T19:30:17.921Z"
   },
   {
    "duration": 142,
    "start_time": "2022-04-01T19:30:19.411Z"
   },
   {
    "duration": 123,
    "start_time": "2022-04-01T19:30:19.554Z"
   },
   {
    "duration": 124,
    "start_time": "2022-04-01T19:30:19.679Z"
   },
   {
    "duration": 16,
    "start_time": "2022-04-01T19:30:19.806Z"
   },
   {
    "duration": 43,
    "start_time": "2022-04-01T19:30:19.831Z"
   },
   {
    "duration": 10,
    "start_time": "2022-04-01T19:30:19.876Z"
   },
   {
    "duration": 20,
    "start_time": "2022-04-01T19:30:19.887Z"
   },
   {
    "duration": 59,
    "start_time": "2022-04-01T19:30:19.909Z"
   },
   {
    "duration": 9,
    "start_time": "2022-04-01T19:30:19.970Z"
   },
   {
    "duration": 28,
    "start_time": "2022-04-01T19:30:19.981Z"
   },
   {
    "duration": 51,
    "start_time": "2022-04-01T19:30:20.011Z"
   },
   {
    "duration": 10,
    "start_time": "2022-04-01T19:30:20.064Z"
   },
   {
    "duration": 17,
    "start_time": "2022-04-01T19:30:20.077Z"
   },
   {
    "duration": 24,
    "start_time": "2022-04-01T19:30:20.096Z"
   },
   {
    "duration": 16,
    "start_time": "2022-04-01T19:30:20.132Z"
   },
   {
    "duration": 126,
    "start_time": "2022-04-01T19:30:20.150Z"
   },
   {
    "duration": 9,
    "start_time": "2022-04-01T19:31:14.230Z"
   },
   {
    "duration": 11,
    "start_time": "2022-04-01T19:32:08.016Z"
   },
   {
    "duration": 11,
    "start_time": "2022-04-01T19:32:17.810Z"
   },
   {
    "duration": 16,
    "start_time": "2022-04-01T19:33:44.801Z"
   },
   {
    "duration": 13,
    "start_time": "2022-04-01T19:33:45.866Z"
   },
   {
    "duration": 13,
    "start_time": "2022-04-01T19:33:47.403Z"
   },
   {
    "duration": 13,
    "start_time": "2022-04-01T19:41:57.852Z"
   },
   {
    "duration": 12,
    "start_time": "2022-04-01T19:42:32.217Z"
   },
   {
    "duration": 18,
    "start_time": "2022-04-01T19:50:46.442Z"
   },
   {
    "duration": 10,
    "start_time": "2022-04-01T19:51:52.062Z"
   },
   {
    "duration": 4,
    "start_time": "2022-04-01T19:52:14.604Z"
   },
   {
    "duration": 11,
    "start_time": "2022-04-01T19:52:22.574Z"
   },
   {
    "duration": 17,
    "start_time": "2022-04-01T19:52:35.085Z"
   },
   {
    "duration": 1525,
    "start_time": "2022-04-01T19:54:39.792Z"
   },
   {
    "duration": 135,
    "start_time": "2022-04-01T19:54:41.319Z"
   },
   {
    "duration": 129,
    "start_time": "2022-04-01T19:54:41.456Z"
   },
   {
    "duration": 129,
    "start_time": "2022-04-01T19:54:41.587Z"
   },
   {
    "duration": 26,
    "start_time": "2022-04-01T19:54:41.717Z"
   },
   {
    "duration": 45,
    "start_time": "2022-04-01T19:54:41.745Z"
   },
   {
    "duration": 10,
    "start_time": "2022-04-01T19:54:41.792Z"
   },
   {
    "duration": 39,
    "start_time": "2022-04-01T19:54:41.804Z"
   },
   {
    "duration": 41,
    "start_time": "2022-04-01T19:54:41.845Z"
   },
   {
    "duration": 10,
    "start_time": "2022-04-01T19:54:41.889Z"
   },
   {
    "duration": 42,
    "start_time": "2022-04-01T19:54:41.901Z"
   },
   {
    "duration": 38,
    "start_time": "2022-04-01T19:54:41.945Z"
   },
   {
    "duration": 9,
    "start_time": "2022-04-01T19:54:41.985Z"
   },
   {
    "duration": 12,
    "start_time": "2022-04-01T19:54:41.996Z"
   },
   {
    "duration": 9,
    "start_time": "2022-04-01T19:54:42.032Z"
   },
   {
    "duration": 17,
    "start_time": "2022-04-01T19:54:42.043Z"
   },
   {
    "duration": 136,
    "start_time": "2022-04-01T19:54:42.062Z"
   },
   {
    "duration": 14,
    "start_time": "2022-04-01T19:55:37.560Z"
   },
   {
    "duration": 114,
    "start_time": "2022-04-01T20:51:15.021Z"
   },
   {
    "duration": 1462,
    "start_time": "2022-04-01T20:52:19.263Z"
   },
   {
    "duration": 129,
    "start_time": "2022-04-01T20:52:20.727Z"
   },
   {
    "duration": 119,
    "start_time": "2022-04-01T20:52:20.858Z"
   },
   {
    "duration": 124,
    "start_time": "2022-04-01T20:52:20.979Z"
   },
   {
    "duration": 17,
    "start_time": "2022-04-01T20:52:21.105Z"
   },
   {
    "duration": 44,
    "start_time": "2022-04-01T20:52:21.132Z"
   },
   {
    "duration": 10,
    "start_time": "2022-04-01T20:52:21.178Z"
   },
   {
    "duration": 19,
    "start_time": "2022-04-01T20:52:21.190Z"
   },
   {
    "duration": 40,
    "start_time": "2022-04-01T20:52:21.231Z"
   },
   {
    "duration": 10,
    "start_time": "2022-04-01T20:52:21.273Z"
   },
   {
    "duration": 19,
    "start_time": "2022-04-01T20:52:21.285Z"
   },
   {
    "duration": 61,
    "start_time": "2022-04-01T20:52:21.306Z"
   },
   {
    "duration": 9,
    "start_time": "2022-04-01T20:52:21.369Z"
   },
   {
    "duration": 13,
    "start_time": "2022-04-01T20:52:21.380Z"
   },
   {
    "duration": 18,
    "start_time": "2022-04-01T20:52:21.395Z"
   },
   {
    "duration": 28,
    "start_time": "2022-04-01T20:52:21.415Z"
   },
   {
    "duration": 293,
    "start_time": "2022-04-01T20:52:21.444Z"
   },
   {
    "duration": 14,
    "start_time": "2022-04-01T20:53:09.549Z"
   },
   {
    "duration": 14,
    "start_time": "2022-04-01T20:57:51.898Z"
   },
   {
    "duration": 3,
    "start_time": "2022-04-01T20:57:54.189Z"
   },
   {
    "duration": 15,
    "start_time": "2022-04-01T21:01:31.954Z"
   },
   {
    "duration": 16,
    "start_time": "2022-04-01T21:02:21.705Z"
   },
   {
    "duration": 3,
    "start_time": "2022-04-01T21:02:47.035Z"
   },
   {
    "duration": 15,
    "start_time": "2022-04-01T21:03:18.676Z"
   },
   {
    "duration": 3,
    "start_time": "2022-04-01T21:03:21.323Z"
   },
   {
    "duration": 15,
    "start_time": "2022-04-01T21:04:39.285Z"
   },
   {
    "duration": 16,
    "start_time": "2022-04-01T21:05:40.100Z"
   },
   {
    "duration": 4,
    "start_time": "2022-04-01T21:06:13.603Z"
   },
   {
    "duration": 2,
    "start_time": "2022-04-01T21:17:51.481Z"
   },
   {
    "duration": 13,
    "start_time": "2022-04-01T21:32:04.162Z"
   },
   {
    "duration": 3,
    "start_time": "2022-04-01T21:32:12.984Z"
   },
   {
    "duration": 4,
    "start_time": "2022-04-01T21:32:15.387Z"
   },
   {
    "duration": 2,
    "start_time": "2022-04-01T21:50:30.324Z"
   },
   {
    "duration": 4,
    "start_time": "2022-04-01T21:50:31.911Z"
   },
   {
    "duration": 2,
    "start_time": "2022-04-01T21:50:34.923Z"
   },
   {
    "duration": 3,
    "start_time": "2022-04-01T21:50:36.089Z"
   },
   {
    "duration": 52,
    "start_time": "2022-04-01T22:26:12.381Z"
   },
   {
    "duration": 86,
    "start_time": "2022-04-01T22:27:28.553Z"
   },
   {
    "duration": 171,
    "start_time": "2022-04-01T22:27:41.962Z"
   },
   {
    "duration": 159,
    "start_time": "2022-04-01T22:28:21.378Z"
   },
   {
    "duration": 140,
    "start_time": "2022-04-01T22:28:43.493Z"
   },
   {
    "duration": 152,
    "start_time": "2022-04-01T22:29:07.184Z"
   },
   {
    "duration": 137,
    "start_time": "2022-04-01T22:45:28.195Z"
   },
   {
    "duration": 150,
    "start_time": "2022-04-01T22:53:38.184Z"
   },
   {
    "duration": 55,
    "start_time": "2022-04-01T23:33:18.186Z"
   },
   {
    "duration": 207,
    "start_time": "2022-04-01T23:33:26.726Z"
   },
   {
    "duration": 54,
    "start_time": "2022-04-01T23:33:51.384Z"
   },
   {
    "duration": 4,
    "start_time": "2022-04-01T23:42:15.992Z"
   },
   {
    "duration": 187,
    "start_time": "2022-04-01T23:42:20.747Z"
   },
   {
    "duration": 189,
    "start_time": "2022-04-01T23:42:26.049Z"
   },
   {
    "duration": 47,
    "start_time": "2022-04-01T23:42:29.388Z"
   },
   {
    "duration": 5,
    "start_time": "2022-04-01T23:55:22.120Z"
   },
   {
    "duration": 4,
    "start_time": "2022-04-02T00:06:00.852Z"
   },
   {
    "duration": 4,
    "start_time": "2022-04-02T00:07:53.757Z"
   },
   {
    "duration": 12,
    "start_time": "2022-04-02T00:16:09.595Z"
   },
   {
    "duration": 12,
    "start_time": "2022-04-02T00:28:53.029Z"
   },
   {
    "duration": 2522,
    "start_time": "2022-04-02T00:32:10.495Z"
   },
   {
    "duration": 3,
    "start_time": "2022-04-02T00:32:51.147Z"
   },
   {
    "duration": 119,
    "start_time": "2022-04-02T00:36:27.813Z"
   },
   {
    "duration": 2507,
    "start_time": "2022-04-02T00:38:18.516Z"
   },
   {
    "duration": 59,
    "start_time": "2022-04-02T00:39:14.382Z"
   },
   {
    "duration": 3,
    "start_time": "2022-04-02T00:39:50.140Z"
   },
   {
    "duration": 5,
    "start_time": "2022-04-02T00:41:19.457Z"
   },
   {
    "duration": 2509,
    "start_time": "2022-04-02T00:41:38.254Z"
   },
   {
    "duration": 1539,
    "start_time": "2022-04-02T12:37:39.177Z"
   },
   {
    "duration": 111,
    "start_time": "2022-04-02T12:37:40.718Z"
   },
   {
    "duration": 104,
    "start_time": "2022-04-02T12:37:40.831Z"
   },
   {
    "duration": 108,
    "start_time": "2022-04-02T12:37:40.936Z"
   },
   {
    "duration": 15,
    "start_time": "2022-04-02T12:37:41.047Z"
   },
   {
    "duration": 38,
    "start_time": "2022-04-02T12:37:41.063Z"
   },
   {
    "duration": 8,
    "start_time": "2022-04-02T12:37:41.102Z"
   },
   {
    "duration": 33,
    "start_time": "2022-04-02T12:37:41.112Z"
   },
   {
    "duration": 33,
    "start_time": "2022-04-02T12:37:41.147Z"
   },
   {
    "duration": 9,
    "start_time": "2022-04-02T12:37:41.182Z"
   },
   {
    "duration": 46,
    "start_time": "2022-04-02T12:37:41.192Z"
   },
   {
    "duration": 35,
    "start_time": "2022-04-02T12:37:41.240Z"
   },
   {
    "duration": 8,
    "start_time": "2022-04-02T12:37:41.277Z"
   },
   {
    "duration": 10,
    "start_time": "2022-04-02T12:37:41.289Z"
   },
   {
    "duration": 38,
    "start_time": "2022-04-02T12:37:41.301Z"
   },
   {
    "duration": 17,
    "start_time": "2022-04-02T12:37:41.340Z"
   },
   {
    "duration": 80,
    "start_time": "2022-04-02T12:37:41.358Z"
   },
   {
    "duration": 98,
    "start_time": "2022-04-02T12:37:41.443Z"
   },
   {
    "duration": 21,
    "start_time": "2022-04-02T12:37:41.543Z"
   },
   {
    "duration": 15,
    "start_time": "2022-04-02T12:37:41.565Z"
   },
   {
    "duration": 58,
    "start_time": "2022-04-02T12:37:41.582Z"
   },
   {
    "duration": 115,
    "start_time": "2022-04-02T12:37:41.641Z"
   },
   {
    "duration": 14,
    "start_time": "2022-04-02T12:37:41.757Z"
   },
   {
    "duration": 163,
    "start_time": "2022-04-02T12:37:41.774Z"
   },
   {
    "duration": 3,
    "start_time": "2022-04-02T12:37:41.939Z"
   },
   {
    "duration": 6,
    "start_time": "2022-04-02T12:37:41.943Z"
   },
   {
    "duration": 4,
    "start_time": "2022-04-02T12:37:41.951Z"
   },
   {
    "duration": 5,
    "start_time": "2022-04-02T12:37:41.957Z"
   },
   {
    "duration": 6,
    "start_time": "2022-04-02T12:37:41.964Z"
   },
   {
    "duration": 172,
    "start_time": "2022-04-02T12:37:41.971Z"
   },
   {
    "duration": 2,
    "start_time": "2022-04-02T12:37:42.145Z"
   },
   {
    "duration": 2354,
    "start_time": "2022-04-02T12:37:42.149Z"
   },
   {
    "duration": 137,
    "start_time": "2022-04-02T12:37:44.505Z"
   },
   {
    "duration": 5,
    "start_time": "2022-04-02T12:37:44.644Z"
   },
   {
    "duration": 2296,
    "start_time": "2022-04-02T12:37:44.651Z"
   },
   {
    "duration": 97,
    "start_time": "2022-04-02T12:37:46.949Z"
   },
   {
    "duration": 91,
    "start_time": "2022-04-02T12:37:47.048Z"
   },
   {
    "duration": 7,
    "start_time": "2022-04-02T12:37:47.142Z"
   },
   {
    "duration": 2276,
    "start_time": "2022-04-02T12:37:47.151Z"
   },
   {
    "duration": 1391,
    "start_time": "2022-04-02T15:17:32.761Z"
   },
   {
    "duration": 125,
    "start_time": "2022-04-02T15:17:34.154Z"
   },
   {
    "duration": 110,
    "start_time": "2022-04-02T15:17:34.281Z"
   },
   {
    "duration": 118,
    "start_time": "2022-04-02T15:17:34.393Z"
   },
   {
    "duration": 16,
    "start_time": "2022-04-02T15:17:34.513Z"
   },
   {
    "duration": 41,
    "start_time": "2022-04-02T15:17:34.537Z"
   },
   {
    "duration": 9,
    "start_time": "2022-04-02T15:17:34.579Z"
   },
   {
    "duration": 16,
    "start_time": "2022-04-02T15:17:34.590Z"
   },
   {
    "duration": 56,
    "start_time": "2022-04-02T15:17:34.607Z"
   },
   {
    "duration": 9,
    "start_time": "2022-04-02T15:17:34.664Z"
   },
   {
    "duration": 17,
    "start_time": "2022-04-02T15:17:34.674Z"
   },
   {
    "duration": 54,
    "start_time": "2022-04-02T15:17:34.692Z"
   },
   {
    "duration": 8,
    "start_time": "2022-04-02T15:17:34.748Z"
   },
   {
    "duration": 12,
    "start_time": "2022-04-02T15:17:34.759Z"
   },
   {
    "duration": 11,
    "start_time": "2022-04-02T15:17:34.773Z"
   },
   {
    "duration": 24,
    "start_time": "2022-04-02T15:17:34.785Z"
   },
   {
    "duration": 29,
    "start_time": "2022-04-02T15:17:34.811Z"
   },
   {
    "duration": 101,
    "start_time": "2022-04-02T15:17:34.842Z"
   },
   {
    "duration": 16,
    "start_time": "2022-04-02T15:17:35.037Z"
   },
   {
    "duration": 16,
    "start_time": "2022-04-02T15:17:35.055Z"
   },
   {
    "duration": 67,
    "start_time": "2022-04-02T15:17:35.073Z"
   },
   {
    "duration": 109,
    "start_time": "2022-04-02T15:17:35.142Z"
   },
   {
    "duration": 86,
    "start_time": "2022-04-02T15:17:35.252Z"
   },
   {
    "duration": 5,
    "start_time": "2022-04-02T15:17:35.340Z"
   },
   {
    "duration": 98,
    "start_time": "2022-04-02T15:17:35.347Z"
   },
   {
    "duration": 5,
    "start_time": "2022-04-02T15:17:35.447Z"
   },
   {
    "duration": 5,
    "start_time": "2022-04-02T15:17:35.454Z"
   },
   {
    "duration": 6,
    "start_time": "2022-04-02T15:17:35.460Z"
   },
   {
    "duration": 7,
    "start_time": "2022-04-02T15:17:35.468Z"
   },
   {
    "duration": 166,
    "start_time": "2022-04-02T15:17:35.477Z"
   },
   {
    "duration": 3,
    "start_time": "2022-04-02T15:17:35.645Z"
   },
   {
    "duration": 2387,
    "start_time": "2022-04-02T15:17:35.649Z"
   },
   {
    "duration": 202,
    "start_time": "2022-04-02T15:17:38.037Z"
   },
   {
    "duration": 3,
    "start_time": "2022-04-02T15:17:38.241Z"
   },
   {
    "duration": 2369,
    "start_time": "2022-04-02T15:17:38.245Z"
   },
   {
    "duration": 131,
    "start_time": "2022-04-02T15:17:40.616Z"
   },
   {
    "duration": 3,
    "start_time": "2022-04-02T15:17:40.839Z"
   },
   {
    "duration": 6,
    "start_time": "2022-04-02T15:17:40.844Z"
   },
   {
    "duration": 2347,
    "start_time": "2022-04-02T15:17:40.851Z"
   },
   {
    "duration": 4,
    "start_time": "2022-04-02T15:28:28.038Z"
   },
   {
    "duration": 5,
    "start_time": "2022-04-02T15:29:18.395Z"
   },
   {
    "duration": 232,
    "start_time": "2022-04-02T15:29:22.731Z"
   },
   {
    "duration": 4,
    "start_time": "2022-04-02T15:30:05.653Z"
   },
   {
    "duration": 201,
    "start_time": "2022-04-02T15:30:09.249Z"
   },
   {
    "duration": 3,
    "start_time": "2022-04-02T15:30:59.226Z"
   },
   {
    "duration": 198,
    "start_time": "2022-04-02T15:31:02.646Z"
   },
   {
    "duration": 4,
    "start_time": "2022-04-02T15:46:46.941Z"
   },
   {
    "duration": 305,
    "start_time": "2022-04-02T15:46:50.034Z"
   },
   {
    "duration": 3,
    "start_time": "2022-04-02T15:47:09.201Z"
   },
   {
    "duration": 106,
    "start_time": "2022-04-02T15:47:12.146Z"
   },
   {
    "duration": 4,
    "start_time": "2022-04-02T15:49:12.023Z"
   },
   {
    "duration": 153,
    "start_time": "2022-04-02T15:49:14.388Z"
   },
   {
    "duration": 4,
    "start_time": "2022-04-02T15:51:51.275Z"
   },
   {
    "duration": 4,
    "start_time": "2022-04-02T15:52:03.356Z"
   },
   {
    "duration": 4,
    "start_time": "2022-04-02T15:53:17.839Z"
   },
   {
    "duration": 4,
    "start_time": "2022-04-02T15:53:26.637Z"
   },
   {
    "duration": 5,
    "start_time": "2022-04-02T15:53:44.157Z"
   },
   {
    "duration": 132,
    "start_time": "2022-04-02T15:53:44.165Z"
   },
   {
    "duration": 115,
    "start_time": "2022-04-02T15:53:44.299Z"
   },
   {
    "duration": 121,
    "start_time": "2022-04-02T15:53:44.416Z"
   },
   {
    "duration": 15,
    "start_time": "2022-04-02T15:53:44.539Z"
   },
   {
    "duration": 42,
    "start_time": "2022-04-02T15:53:44.555Z"
   },
   {
    "duration": 9,
    "start_time": "2022-04-02T15:53:44.599Z"
   },
   {
    "duration": 37,
    "start_time": "2022-04-02T15:53:44.610Z"
   },
   {
    "duration": 35,
    "start_time": "2022-04-02T15:53:44.649Z"
   },
   {
    "duration": 10,
    "start_time": "2022-04-02T15:53:44.686Z"
   },
   {
    "duration": 43,
    "start_time": "2022-04-02T15:53:44.698Z"
   },
   {
    "duration": 38,
    "start_time": "2022-04-02T15:53:44.743Z"
   },
   {
    "duration": 46,
    "start_time": "2022-04-02T15:53:44.782Z"
   },
   {
    "duration": 37,
    "start_time": "2022-04-02T15:53:44.845Z"
   },
   {
    "duration": 16,
    "start_time": "2022-04-02T15:53:44.884Z"
   },
   {
    "duration": 26,
    "start_time": "2022-04-02T15:53:44.902Z"
   },
   {
    "duration": 29,
    "start_time": "2022-04-02T15:53:44.929Z"
   },
   {
    "duration": 104,
    "start_time": "2022-04-02T15:53:45.038Z"
   },
   {
    "duration": 14,
    "start_time": "2022-04-02T15:53:45.144Z"
   },
   {
    "duration": 78,
    "start_time": "2022-04-02T15:53:45.160Z"
   },
   {
    "duration": 105,
    "start_time": "2022-04-02T15:53:45.241Z"
   },
   {
    "duration": 17,
    "start_time": "2022-04-02T15:53:45.348Z"
   },
   {
    "duration": 72,
    "start_time": "2022-04-02T15:53:45.367Z"
   },
   {
    "duration": 104,
    "start_time": "2022-04-02T15:53:45.442Z"
   },
   {
    "duration": 5,
    "start_time": "2022-04-02T15:53:45.548Z"
   },
   {
    "duration": 10,
    "start_time": "2022-04-02T15:53:45.554Z"
   },
   {
    "duration": 6,
    "start_time": "2022-04-02T15:53:45.566Z"
   },
   {
    "duration": 5,
    "start_time": "2022-04-02T15:53:45.575Z"
   },
   {
    "duration": 10,
    "start_time": "2022-04-02T15:53:45.581Z"
   },
   {
    "duration": 50,
    "start_time": "2022-04-02T15:53:45.592Z"
   },
   {
    "duration": 102,
    "start_time": "2022-04-02T15:53:45.645Z"
   },
   {
    "duration": 2039,
    "start_time": "2022-04-02T15:53:49.996Z"
   },
   {
    "duration": 6,
    "start_time": "2022-04-02T15:54:27.436Z"
   },
   {
    "duration": 10,
    "start_time": "2022-04-02T15:54:31.448Z"
   },
   {
    "duration": 4,
    "start_time": "2022-04-02T15:54:32.526Z"
   },
   {
    "duration": 48,
    "start_time": "2022-04-02T15:54:35.515Z"
   },
   {
    "duration": 3,
    "start_time": "2022-04-02T15:58:12.188Z"
   },
   {
    "duration": 5,
    "start_time": "2022-04-02T15:58:17.211Z"
   },
   {
    "duration": 6,
    "start_time": "2022-04-02T15:58:20.288Z"
   },
   {
    "duration": 4,
    "start_time": "2022-04-02T15:58:20.771Z"
   },
   {
    "duration": 28,
    "start_time": "2022-04-02T15:58:21.388Z"
   },
   {
    "duration": 16,
    "start_time": "2022-04-02T16:15:08.521Z"
   },
   {
    "duration": 18,
    "start_time": "2022-04-02T16:18:34.247Z"
   },
   {
    "duration": 12393,
    "start_time": "2022-04-02T16:19:41.959Z"
   },
   {
    "duration": 7,
    "start_time": "2022-04-02T16:20:30.054Z"
   },
   {
    "duration": 9,
    "start_time": "2022-04-02T16:21:57.270Z"
   },
   {
    "duration": 4,
    "start_time": "2022-04-02T16:22:03.196Z"
   },
   {
    "duration": 9,
    "start_time": "2022-04-02T16:22:33.657Z"
   },
   {
    "duration": 5,
    "start_time": "2022-04-02T16:22:39.779Z"
   },
   {
    "duration": 4,
    "start_time": "2022-04-02T16:24:58.398Z"
   },
   {
    "duration": 19,
    "start_time": "2022-04-02T16:25:37.930Z"
   },
   {
    "duration": 7,
    "start_time": "2022-04-02T16:26:01.061Z"
   },
   {
    "duration": 9728,
    "start_time": "2022-04-02T16:26:13.289Z"
   },
   {
    "duration": 3,
    "start_time": "2022-04-02T16:26:53.282Z"
   },
   {
    "duration": 1231,
    "start_time": "2022-04-02T16:26:57.706Z"
   },
   {
    "duration": 5,
    "start_time": "2022-04-02T16:27:02.852Z"
   },
   {
    "duration": 1263,
    "start_time": "2022-04-02T16:27:52.946Z"
   },
   {
    "duration": 7,
    "start_time": "2022-04-02T16:27:57.805Z"
   },
   {
    "duration": 1254,
    "start_time": "2022-04-02T16:28:07.535Z"
   },
   {
    "duration": 8,
    "start_time": "2022-04-02T16:28:13.833Z"
   },
   {
    "duration": 10,
    "start_time": "2022-04-02T16:31:32.366Z"
   },
   {
    "duration": 4,
    "start_time": "2022-04-02T16:31:54.691Z"
   },
   {
    "duration": 4,
    "start_time": "2022-04-02T16:32:47.306Z"
   },
   {
    "duration": 10,
    "start_time": "2022-04-02T16:32:57.520Z"
   },
   {
    "duration": 1285,
    "start_time": "2022-04-02T16:36:02.715Z"
   },
   {
    "duration": 7,
    "start_time": "2022-04-02T16:36:06.744Z"
   },
   {
    "duration": 7,
    "start_time": "2022-04-02T16:37:31.261Z"
   },
   {
    "duration": 10,
    "start_time": "2022-04-02T16:38:35.041Z"
   },
   {
    "duration": 126,
    "start_time": "2022-04-02T16:39:07.451Z"
   },
   {
    "duration": 5,
    "start_time": "2022-04-02T16:41:34.180Z"
   },
   {
    "duration": 5,
    "start_time": "2022-04-02T16:42:02.030Z"
   },
   {
    "duration": 1353,
    "start_time": "2022-04-02T16:44:26.954Z"
   },
   {
    "duration": 1226,
    "start_time": "2022-04-02T16:46:27.716Z"
   },
   {
    "duration": 1458,
    "start_time": "2022-04-02T16:47:34.708Z"
   },
   {
    "duration": 122,
    "start_time": "2022-04-02T16:47:36.168Z"
   },
   {
    "duration": 112,
    "start_time": "2022-04-02T16:47:36.292Z"
   },
   {
    "duration": 117,
    "start_time": "2022-04-02T16:47:36.406Z"
   },
   {
    "duration": 26,
    "start_time": "2022-04-02T16:47:36.525Z"
   },
   {
    "duration": 40,
    "start_time": "2022-04-02T16:47:36.553Z"
   },
   {
    "duration": 9,
    "start_time": "2022-04-02T16:47:36.595Z"
   },
   {
    "duration": 37,
    "start_time": "2022-04-02T16:47:36.606Z"
   },
   {
    "duration": 34,
    "start_time": "2022-04-02T16:47:36.645Z"
   },
   {
    "duration": 10,
    "start_time": "2022-04-02T16:47:36.681Z"
   },
   {
    "duration": 16,
    "start_time": "2022-04-02T16:47:36.692Z"
   },
   {
    "duration": 59,
    "start_time": "2022-04-02T16:47:36.710Z"
   },
   {
    "duration": 8,
    "start_time": "2022-04-02T16:47:36.771Z"
   },
   {
    "duration": 14,
    "start_time": "2022-04-02T16:47:36.781Z"
   },
   {
    "duration": 11,
    "start_time": "2022-04-02T16:47:36.796Z"
   },
   {
    "duration": 40,
    "start_time": "2022-04-02T16:47:36.808Z"
   },
   {
    "duration": 15,
    "start_time": "2022-04-02T16:47:36.850Z"
   },
   {
    "duration": 77,
    "start_time": "2022-04-02T16:47:36.867Z"
   },
   {
    "duration": 109,
    "start_time": "2022-04-02T16:47:36.946Z"
   },
   {
    "duration": 16,
    "start_time": "2022-04-02T16:47:37.057Z"
   },
   {
    "duration": 64,
    "start_time": "2022-04-02T16:47:37.075Z"
   },
   {
    "duration": 113,
    "start_time": "2022-04-02T16:47:37.142Z"
   },
   {
    "duration": 17,
    "start_time": "2022-04-02T16:47:37.257Z"
   },
   {
    "duration": 66,
    "start_time": "2022-04-02T16:47:37.276Z"
   },
   {
    "duration": 115,
    "start_time": "2022-04-02T16:47:37.344Z"
   },
   {
    "duration": 47,
    "start_time": "2022-04-02T16:47:37.461Z"
   },
   {
    "duration": 42,
    "start_time": "2022-04-02T16:47:37.510Z"
   },
   {
    "duration": 17,
    "start_time": "2022-04-02T16:47:37.557Z"
   },
   {
    "duration": 35,
    "start_time": "2022-04-02T16:47:37.577Z"
   },
   {
    "duration": 1300,
    "start_time": "2022-04-02T16:47:37.614Z"
   },
   {
    "duration": 7,
    "start_time": "2022-04-02T16:47:38.916Z"
   },
   {
    "duration": 5,
    "start_time": "2022-04-02T16:47:38.937Z"
   },
   {
    "duration": 1303,
    "start_time": "2022-04-02T16:47:38.944Z"
   },
   {
    "duration": 1266,
    "start_time": "2022-04-02T16:47:40.249Z"
   },
   {
    "duration": 1297,
    "start_time": "2022-04-02T16:49:04.026Z"
   },
   {
    "duration": 1231,
    "start_time": "2022-04-02T16:49:58.273Z"
   },
   {
    "duration": 5,
    "start_time": "2022-04-02T16:50:38.542Z"
   },
   {
    "duration": 1299,
    "start_time": "2022-04-02T16:52:19.297Z"
   },
   {
    "duration": 7,
    "start_time": "2022-04-02T16:52:21.185Z"
   },
   {
    "duration": 5,
    "start_time": "2022-04-02T16:52:22.907Z"
   },
   {
    "duration": 1250,
    "start_time": "2022-04-02T16:52:25.365Z"
   },
   {
    "duration": 103,
    "start_time": "2022-04-02T16:52:26.732Z"
   },
   {
    "duration": 1246,
    "start_time": "2022-04-02T16:52:51.697Z"
   },
   {
    "duration": 5,
    "start_time": "2022-04-02T16:52:54.544Z"
   },
   {
    "duration": 1248,
    "start_time": "2022-04-02T16:52:58.630Z"
   },
   {
    "duration": 7,
    "start_time": "2022-04-02T16:52:59.881Z"
   },
   {
    "duration": 4,
    "start_time": "2022-04-02T16:53:00.489Z"
   },
   {
    "duration": 1264,
    "start_time": "2022-04-02T16:53:01.964Z"
   },
   {
    "duration": 5,
    "start_time": "2022-04-02T16:53:03.249Z"
   },
   {
    "duration": 1236,
    "start_time": "2022-04-02T16:53:08.802Z"
   },
   {
    "duration": 5,
    "start_time": "2022-04-02T16:53:10.390Z"
   },
   {
    "duration": 6,
    "start_time": "2022-04-02T17:01:12.673Z"
   },
   {
    "duration": 1284,
    "start_time": "2022-04-02T17:01:16.019Z"
   },
   {
    "duration": 5,
    "start_time": "2022-04-02T17:03:30.761Z"
   },
   {
    "duration": 1284,
    "start_time": "2022-04-02T17:03:35.235Z"
   },
   {
    "duration": 1256,
    "start_time": "2022-04-02T17:04:43.033Z"
   },
   {
    "duration": 1230,
    "start_time": "2022-04-02T17:05:42.112Z"
   },
   {
    "duration": 5,
    "start_time": "2022-04-02T17:06:30.296Z"
   },
   {
    "duration": 1228,
    "start_time": "2022-04-02T17:06:38.086Z"
   },
   {
    "duration": 1237,
    "start_time": "2022-04-02T17:06:42.833Z"
   },
   {
    "duration": 1230,
    "start_time": "2022-04-02T17:06:51.609Z"
   },
   {
    "duration": 1685,
    "start_time": "2022-04-03T04:42:01.092Z"
   },
   {
    "duration": 130,
    "start_time": "2022-04-03T04:42:02.779Z"
   },
   {
    "duration": 123,
    "start_time": "2022-04-03T04:42:02.911Z"
   },
   {
    "duration": 125,
    "start_time": "2022-04-03T04:42:03.037Z"
   },
   {
    "duration": 16,
    "start_time": "2022-04-03T04:42:03.164Z"
   },
   {
    "duration": 56,
    "start_time": "2022-04-03T04:42:03.182Z"
   },
   {
    "duration": 9,
    "start_time": "2022-04-03T04:42:03.240Z"
   },
   {
    "duration": 18,
    "start_time": "2022-04-03T04:42:03.250Z"
   },
   {
    "duration": 35,
    "start_time": "2022-04-03T04:42:03.269Z"
   },
   {
    "duration": 8,
    "start_time": "2022-04-03T04:42:03.306Z"
   },
   {
    "duration": 38,
    "start_time": "2022-04-03T04:42:03.316Z"
   },
   {
    "duration": 34,
    "start_time": "2022-04-03T04:42:03.356Z"
   },
   {
    "duration": 9,
    "start_time": "2022-04-03T04:42:03.391Z"
   },
   {
    "duration": 36,
    "start_time": "2022-04-03T04:42:03.402Z"
   },
   {
    "duration": 9,
    "start_time": "2022-04-03T04:42:03.439Z"
   },
   {
    "duration": 19,
    "start_time": "2022-04-03T04:42:03.450Z"
   },
   {
    "duration": 72,
    "start_time": "2022-04-03T04:42:03.471Z"
   },
   {
    "duration": 92,
    "start_time": "2022-04-03T04:42:03.546Z"
   },
   {
    "duration": 17,
    "start_time": "2022-04-03T04:42:03.641Z"
   },
   {
    "duration": 87,
    "start_time": "2022-04-03T04:42:03.660Z"
   },
   {
    "duration": 3,
    "start_time": "2022-04-03T04:42:03.839Z"
   },
   {
    "duration": 18,
    "start_time": "2022-04-03T04:42:03.844Z"
   },
   {
    "duration": 84,
    "start_time": "2022-04-03T04:42:03.864Z"
   },
   {
    "duration": 4,
    "start_time": "2022-04-03T04:42:04.038Z"
   },
   {
    "duration": 5,
    "start_time": "2022-04-03T04:42:04.044Z"
   },
   {
    "duration": 9,
    "start_time": "2022-04-03T04:42:04.051Z"
   },
   {
    "duration": 7,
    "start_time": "2022-04-03T04:42:04.061Z"
   },
   {
    "duration": 10,
    "start_time": "2022-04-03T04:42:04.071Z"
   },
   {
    "duration": 56,
    "start_time": "2022-04-03T04:42:04.082Z"
   },
   {
    "duration": 8,
    "start_time": "2022-04-03T04:42:04.139Z"
   },
   {
    "duration": 1264,
    "start_time": "2022-04-03T04:42:04.148Z"
   },
   {
    "duration": 1223,
    "start_time": "2022-04-03T04:42:05.414Z"
   },
   {
    "duration": 1243,
    "start_time": "2022-04-03T04:42:06.639Z"
   },
   {
    "duration": 47,
    "start_time": "2022-04-03T16:03:50.770Z"
   },
   {
    "duration": 1432,
    "start_time": "2022-04-03T16:03:56.713Z"
   },
   {
    "duration": 116,
    "start_time": "2022-04-03T16:03:58.148Z"
   },
   {
    "duration": 108,
    "start_time": "2022-04-03T16:03:58.266Z"
   },
   {
    "duration": 111,
    "start_time": "2022-04-03T16:03:58.375Z"
   },
   {
    "duration": 14,
    "start_time": "2022-04-03T16:03:58.489Z"
   },
   {
    "duration": 49,
    "start_time": "2022-04-03T16:03:58.505Z"
   },
   {
    "duration": 8,
    "start_time": "2022-04-03T16:03:58.556Z"
   },
   {
    "duration": 15,
    "start_time": "2022-04-03T16:03:58.565Z"
   },
   {
    "duration": 33,
    "start_time": "2022-04-03T16:03:58.582Z"
   },
   {
    "duration": 28,
    "start_time": "2022-04-03T16:03:58.616Z"
   },
   {
    "duration": 17,
    "start_time": "2022-04-03T16:03:58.646Z"
   },
   {
    "duration": 33,
    "start_time": "2022-04-03T16:03:58.664Z"
   },
   {
    "duration": 9,
    "start_time": "2022-04-03T16:03:58.698Z"
   },
   {
    "duration": 36,
    "start_time": "2022-04-03T16:03:58.709Z"
   },
   {
    "duration": 11,
    "start_time": "2022-04-03T16:03:58.747Z"
   },
   {
    "duration": 16,
    "start_time": "2022-04-03T16:03:58.760Z"
   },
   {
    "duration": 15,
    "start_time": "2022-04-03T16:03:58.778Z"
   },
   {
    "duration": 100,
    "start_time": "2022-04-03T16:03:58.839Z"
   },
   {
    "duration": 15,
    "start_time": "2022-04-03T16:03:58.941Z"
   },
   {
    "duration": 83,
    "start_time": "2022-04-03T16:03:58.958Z"
   },
   {
    "duration": 94,
    "start_time": "2022-04-03T16:03:59.044Z"
   },
   {
    "duration": 14,
    "start_time": "2022-04-03T16:03:59.140Z"
   },
   {
    "duration": 14,
    "start_time": "2022-04-03T16:03:59.156Z"
   },
   {
    "duration": 69,
    "start_time": "2022-04-03T16:03:59.172Z"
   },
   {
    "duration": 99,
    "start_time": "2022-04-03T16:03:59.242Z"
   },
   {
    "duration": 4,
    "start_time": "2022-04-03T16:04:01.711Z"
   },
   {
    "duration": 3,
    "start_time": "2022-04-03T16:04:14.623Z"
   },
   {
    "duration": 130,
    "start_time": "2022-04-03T16:04:14.629Z"
   },
   {
    "duration": 116,
    "start_time": "2022-04-03T16:04:14.761Z"
   },
   {
    "duration": 117,
    "start_time": "2022-04-03T16:04:14.879Z"
   },
   {
    "duration": 18,
    "start_time": "2022-04-03T16:04:14.999Z"
   },
   {
    "duration": 52,
    "start_time": "2022-04-03T16:04:15.019Z"
   },
   {
    "duration": 10,
    "start_time": "2022-04-03T16:04:15.073Z"
   },
   {
    "duration": 16,
    "start_time": "2022-04-03T16:04:15.085Z"
   },
   {
    "duration": 51,
    "start_time": "2022-04-03T16:04:15.102Z"
   },
   {
    "duration": 8,
    "start_time": "2022-04-03T16:04:15.155Z"
   },
   {
    "duration": 18,
    "start_time": "2022-04-03T16:04:15.165Z"
   },
   {
    "duration": 54,
    "start_time": "2022-04-03T16:04:15.185Z"
   },
   {
    "duration": 10,
    "start_time": "2022-04-03T16:04:15.241Z"
   },
   {
    "duration": 13,
    "start_time": "2022-04-03T16:04:15.253Z"
   },
   {
    "duration": 12,
    "start_time": "2022-04-03T16:04:15.268Z"
   },
   {
    "duration": 16,
    "start_time": "2022-04-03T16:04:15.282Z"
   },
   {
    "duration": 45,
    "start_time": "2022-04-03T16:04:15.300Z"
   },
   {
    "duration": 92,
    "start_time": "2022-04-03T16:04:15.347Z"
   },
   {
    "duration": 111,
    "start_time": "2022-04-03T16:04:15.442Z"
   },
   {
    "duration": 13,
    "start_time": "2022-04-03T16:04:15.555Z"
   },
   {
    "duration": 70,
    "start_time": "2022-04-03T16:04:15.571Z"
   },
   {
    "duration": 111,
    "start_time": "2022-04-03T16:04:15.643Z"
   },
   {
    "duration": 14,
    "start_time": "2022-04-03T16:04:15.756Z"
   },
   {
    "duration": 69,
    "start_time": "2022-04-03T16:04:15.772Z"
   },
   {
    "duration": 102,
    "start_time": "2022-04-03T16:04:15.843Z"
   },
   {
    "duration": 10,
    "start_time": "2022-04-03T16:04:15.947Z"
   },
   {
    "duration": 13,
    "start_time": "2022-04-03T16:04:15.959Z"
   },
   {
    "duration": 6,
    "start_time": "2022-04-03T16:04:15.973Z"
   },
   {
    "duration": 4,
    "start_time": "2022-04-03T16:04:15.981Z"
   },
   {
    "duration": 7,
    "start_time": "2022-04-03T16:04:15.987Z"
   },
   {
    "duration": 1264,
    "start_time": "2022-04-03T16:04:15.995Z"
   },
   {
    "duration": 1204,
    "start_time": "2022-04-03T16:04:17.261Z"
   },
   {
    "duration": 1212,
    "start_time": "2022-04-03T16:04:18.467Z"
   },
   {
    "duration": 3,
    "start_time": "2022-04-03T16:06:10.492Z"
   },
   {
    "duration": 67,
    "start_time": "2022-04-03T16:07:34.839Z"
   },
   {
    "duration": 3,
    "start_time": "2022-04-03T16:07:43.636Z"
   },
   {
    "duration": 3,
    "start_time": "2022-04-03T16:07:46.528Z"
   },
   {
    "duration": 3,
    "start_time": "2022-04-03T16:08:16.554Z"
   },
   {
    "duration": 2,
    "start_time": "2022-04-03T16:08:26.166Z"
   },
   {
    "duration": 3,
    "start_time": "2022-04-03T16:08:32.608Z"
   },
   {
    "duration": 3,
    "start_time": "2022-04-03T16:10:19.105Z"
   },
   {
    "duration": 1235,
    "start_time": "2022-04-03T16:11:00.881Z"
   },
   {
    "duration": 1223,
    "start_time": "2022-04-03T16:11:06.806Z"
   },
   {
    "duration": 1218,
    "start_time": "2022-04-03T16:12:26.018Z"
   },
   {
    "duration": 1458,
    "start_time": "2022-04-03T16:16:09.223Z"
   },
   {
    "duration": 125,
    "start_time": "2022-04-03T16:16:10.684Z"
   },
   {
    "duration": 120,
    "start_time": "2022-04-03T16:16:10.811Z"
   },
   {
    "duration": 123,
    "start_time": "2022-04-03T16:16:10.933Z"
   },
   {
    "duration": 18,
    "start_time": "2022-04-03T16:16:11.057Z"
   },
   {
    "duration": 56,
    "start_time": "2022-04-03T16:16:11.077Z"
   },
   {
    "duration": 8,
    "start_time": "2022-04-03T16:16:11.138Z"
   },
   {
    "duration": 17,
    "start_time": "2022-04-03T16:16:11.148Z"
   },
   {
    "duration": 41,
    "start_time": "2022-04-03T16:16:11.166Z"
   },
   {
    "duration": 9,
    "start_time": "2022-04-03T16:16:11.210Z"
   },
   {
    "duration": 15,
    "start_time": "2022-04-03T16:16:11.238Z"
   },
   {
    "duration": 36,
    "start_time": "2022-04-03T16:16:11.255Z"
   },
   {
    "duration": 9,
    "start_time": "2022-04-03T16:16:11.293Z"
   },
   {
    "duration": 35,
    "start_time": "2022-04-03T16:16:11.304Z"
   },
   {
    "duration": 21,
    "start_time": "2022-04-03T16:16:11.341Z"
   },
   {
    "duration": 27,
    "start_time": "2022-04-03T16:16:11.364Z"
   },
   {
    "duration": 16,
    "start_time": "2022-04-03T16:16:11.393Z"
   },
   {
    "duration": 128,
    "start_time": "2022-04-03T16:16:11.411Z"
   },
   {
    "duration": 30,
    "start_time": "2022-04-03T16:16:11.541Z"
   },
   {
    "duration": 35,
    "start_time": "2022-04-03T16:16:11.572Z"
   },
   {
    "duration": 31,
    "start_time": "2022-04-03T16:16:11.609Z"
   },
   {
    "duration": 113,
    "start_time": "2022-04-03T16:16:11.642Z"
   },
   {
    "duration": 15,
    "start_time": "2022-04-03T16:16:11.756Z"
   },
   {
    "duration": 67,
    "start_time": "2022-04-03T16:16:11.773Z"
   },
   {
    "duration": 103,
    "start_time": "2022-04-03T16:16:11.843Z"
   },
   {
    "duration": 22,
    "start_time": "2022-04-03T16:16:11.948Z"
   },
   {
    "duration": 11,
    "start_time": "2022-04-03T16:16:11.972Z"
   },
   {
    "duration": 8,
    "start_time": "2022-04-03T16:16:11.986Z"
   },
   {
    "duration": 5,
    "start_time": "2022-04-03T16:16:11.996Z"
   },
   {
    "duration": 21,
    "start_time": "2022-04-03T16:16:12.003Z"
   },
   {
    "duration": 1318,
    "start_time": "2022-04-03T16:16:12.026Z"
   },
   {
    "duration": 1241,
    "start_time": "2022-04-03T16:16:13.346Z"
   },
   {
    "duration": 1295,
    "start_time": "2022-04-03T16:16:14.589Z"
   },
   {
    "duration": 1616,
    "start_time": "2023-12-03T11:39:57.692Z"
   },
   {
    "duration": 492,
    "start_time": "2023-12-03T11:40:02.168Z"
   },
   {
    "duration": 581,
    "start_time": "2023-12-03T11:40:02.731Z"
   },
   {
    "duration": 548,
    "start_time": "2023-12-03T11:40:03.314Z"
   },
   {
    "duration": 15,
    "start_time": "2023-12-03T11:40:13.119Z"
   },
   {
    "duration": 917,
    "start_time": "2023-12-03T11:41:38.548Z"
   },
   {
    "duration": 1924,
    "start_time": "2023-12-03T11:42:30.568Z"
   },
   {
    "duration": 247,
    "start_time": "2023-12-03T11:43:03.988Z"
   },
   {
    "duration": 12,
    "start_time": "2023-12-03T11:43:09.164Z"
   },
   {
    "duration": 225,
    "start_time": "2023-12-03T11:44:25.943Z"
   },
   {
    "duration": 11,
    "start_time": "2023-12-03T11:44:26.752Z"
   },
   {
    "duration": 327,
    "start_time": "2023-12-03T11:47:02.263Z"
   },
   {
    "duration": 250,
    "start_time": "2023-12-03T11:47:03.222Z"
   },
   {
    "duration": 289,
    "start_time": "2023-12-03T11:47:04.194Z"
   },
   {
    "duration": 1367,
    "start_time": "2023-12-03T11:47:39.581Z"
   },
   {
    "duration": 235,
    "start_time": "2023-12-03T11:47:43.169Z"
   },
   {
    "duration": 515,
    "start_time": "2023-12-03T11:47:43.676Z"
   },
   {
    "duration": 284,
    "start_time": "2023-12-03T11:47:44.193Z"
   },
   {
    "duration": 15,
    "start_time": "2023-12-03T11:47:45.772Z"
   },
   {
    "duration": 40,
    "start_time": "2023-12-03T11:47:48.151Z"
   },
   {
    "duration": 9,
    "start_time": "2023-12-03T11:47:51.537Z"
   },
   {
    "duration": 15,
    "start_time": "2023-12-03T11:47:57.476Z"
   },
   {
    "duration": 37,
    "start_time": "2023-12-03T11:48:01.924Z"
   },
   {
    "duration": 8,
    "start_time": "2023-12-03T11:48:02.353Z"
   },
   {
    "duration": 15,
    "start_time": "2023-12-03T11:48:05.881Z"
   },
   {
    "duration": 35,
    "start_time": "2023-12-03T11:48:08.235Z"
   },
   {
    "duration": 9,
    "start_time": "2023-12-03T11:48:11.238Z"
   },
   {
    "duration": 10,
    "start_time": "2023-12-03T11:48:14.957Z"
   },
   {
    "duration": 8,
    "start_time": "2023-12-03T11:48:17.064Z"
   },
   {
    "duration": 13,
    "start_time": "2023-12-03T11:48:55.551Z"
   },
   {
    "duration": 20,
    "start_time": "2023-12-03T11:48:58.437Z"
   },
   {
    "duration": 2,
    "start_time": "2023-12-03T11:49:03.962Z"
   },
   {
    "duration": 13,
    "start_time": "2023-12-03T11:52:15.538Z"
   },
   {
    "duration": 14,
    "start_time": "2023-12-03T11:52:16.587Z"
   },
   {
    "duration": 3,
    "start_time": "2023-12-03T11:52:18.790Z"
   },
   {
    "duration": 13,
    "start_time": "2023-12-03T11:52:33.827Z"
   },
   {
    "duration": 16,
    "start_time": "2023-12-03T11:52:34.736Z"
   },
   {
    "duration": 4,
    "start_time": "2023-12-03T11:52:35.552Z"
   },
   {
    "duration": 2,
    "start_time": "2023-12-03T11:54:22.336Z"
   },
   {
    "duration": 3,
    "start_time": "2023-12-03T11:54:58.645Z"
   },
   {
    "duration": 2,
    "start_time": "2023-12-03T11:56:24.911Z"
   },
   {
    "duration": 3,
    "start_time": "2023-12-03T11:56:36.091Z"
   },
   {
    "duration": 3,
    "start_time": "2023-12-03T11:57:30.059Z"
   },
   {
    "duration": 4,
    "start_time": "2023-12-03T12:00:37.633Z"
   },
   {
    "duration": 1243,
    "start_time": "2023-12-03T12:00:40.887Z"
   },
   {
    "duration": 1229,
    "start_time": "2023-12-03T12:00:56.935Z"
   },
   {
    "duration": 1241,
    "start_time": "2023-12-03T12:01:08.491Z"
   },
   {
    "duration": 5,
    "start_time": "2023-12-03T12:06:29.358Z"
   },
   {
    "duration": 1241,
    "start_time": "2023-12-03T12:06:30.832Z"
   },
   {
    "duration": 5,
    "start_time": "2023-12-03T12:07:03.010Z"
   },
   {
    "duration": 1252,
    "start_time": "2023-12-03T12:07:04.251Z"
   },
   {
    "duration": 1246,
    "start_time": "2023-12-03T12:07:18.024Z"
   },
   {
    "duration": 1192,
    "start_time": "2023-12-03T12:07:40.780Z"
   }
  ],
  "kernelspec": {
   "display_name": "Python 3 (ipykernel)",
   "language": "python",
   "name": "python3"
  },
  "language_info": {
   "codemirror_mode": {
    "name": "ipython",
    "version": 3
   },
   "file_extension": ".py",
   "mimetype": "text/x-python",
   "name": "python",
   "nbconvert_exporter": "python",
   "pygments_lexer": "ipython3",
   "version": "3.9.5"
  },
  "toc": {
   "base_numbering": 1,
   "nav_menu": {},
   "number_sections": true,
   "sideBar": true,
   "skip_h1_title": true,
   "title_cell": "Table of Contents",
   "title_sidebar": "Contents",
   "toc_cell": false,
   "toc_position": {
    "height": "calc(100% - 180px)",
    "left": "10px",
    "top": "150px",
    "width": "297.438px"
   },
   "toc_section_display": true,
   "toc_window_display": true
  }
 },
 "nbformat": 4,
 "nbformat_minor": 2
}
